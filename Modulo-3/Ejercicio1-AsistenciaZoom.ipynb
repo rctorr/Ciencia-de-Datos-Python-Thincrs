{
 "cells": [
  {
   "cell_type": "markdown",
   "id": "8db36c63-5c75-4b09-932a-165629ef2bd0",
   "metadata": {
    "editable": true,
    "slideshow": {
     "slide_type": ""
    },
    "tags": []
   },
   "source": [
    "**Módulo 3:** Trabajando con datos en archivos de texto"
   ]
  },
  {
   "cell_type": "markdown",
   "id": "1f685e53-c510-42c7-b0bc-e82f05216fdc",
   "metadata": {},
   "source": [
    "**Ejercicio 1:** Asistencia Zoom\n",
    "\n",
    "**Consideraciones:**\n",
    "\n",
    "Cuando se trabaja con datos que incluyen exto en lenguaje natural es importante hacer algunas consideraciones.\n",
    "\n",
    "- Usar el mismo conjunto de caracteres (latin-1, iso8859-1, utf-8, ascii(\n",
    "- Para los sistemas mayúsculas y minúsculas son diferentes, para un lenguaje natural el significado no cambia, así que antes de realizar algún análisis transforar todo a minúsculas o mayúsculas\n",
    "- Los símbolos especiales de cada lenguaje generalmente deben ser eliminados dejando sólo las palabras y los blancos.\n",
    "- En el lenguaje en Español en particulas además también hay que eliminar acentos, ya que *México* es distinto a *Mexico* y puede generar resultados incovenientes.\n",
    "\n",
    "**Descripción:** En la carpeta actual se te proporciona el archivo `lista-de-participantes.csv` que contiene la lista de participantes de un curso de Ciencia de Datos impartido a Cisco, además existe el archivo `participants_91461136067_20230808.csv` que contiene la lista de los usuarios que asistieron a una clase del curso. Utiliza todas las herramientas vistas hasta el momento para comtejar / comparar ambos archivos y crear una lista con el nombre del participante tomado de la lista del archivo `lista-de-participantes.csv` y agrega una columna con valores verdadero o falso (True o False), dónde True indica que el participante asistió a esta clase y False indica una falta.\n",
    "\n",
    "Generando un resultado similar al siguiente:\n",
    "```\n",
    "ana paula ceballos canchola         True\n",
    "juan luis magana paz                True\n",
    "estiven angel echeverria            True\n",
    "oswaldo urena ponce                 True\n",
    "arturo fernando salcedo leon        True\n",
    "viviana basurto rios                True\n",
    "gustavo adolfo angulo flores        True\n",
    "erick geovany curiel estrada        True\n",
    "candido martinez rodriguez          True\n",
    "paulo edén rios gonzalez            True\n",
    "jorge rivas camacho                 True\n",
    "jorge oved guevara tirado           False\n",
    "grecia andrea farias jacobo         True\n",
    "alejandro ismael susarrey lópez     True\n",
    "juan pablo ochoa chavez             True\n",
    "ivan alejandro martinez dumas       True\n",
    "gabriel huerta vazquez              False\n",
    "miguel presa hernandez              True\n",
    "juan carlos reyes munoz             True\n",
    "priscila sierra contreras           True\n",
    "alejandro antonio zamudio rosas     True\n",
    "jonathan cuevas valencia            True\n",
    "luis iii ariel garza narvaez        True\n",
    "diego jesus gómez cortés            True\n",
    "sofia daniela rodriguez saenz       True\n",
    "eliseo mora torres                  True\n",
    "luis esquivel rios                  True\n",
    "alexa gabriela marmolejo alvarado   True\n",
    "sandra leonor camacho gutiérrez     True\n",
    "diana elizabeth diaz rodriguez      True\n",
    "```"
   ]
  },
  {
   "cell_type": "code",
   "execution_count": 12,
   "id": "10b45491-c7b4-42ef-9f41-d498e39ce50c",
   "metadata": {},
   "outputs": [],
   "source": [
    "import csv\n",
    "\n",
    "# Leyendo registros de abmas listas y encuentra e imprime las diferencias\n"
   ]
  }
 ],
 "metadata": {
  "kernelspec": {
   "display_name": "Python 3 (ipykernel)",
   "language": "python",
   "name": "python3"
  },
  "language_info": {
   "codemirror_mode": {
    "name": "ipython",
    "version": 3
   },
   "file_extension": ".py",
   "mimetype": "text/x-python",
   "name": "python",
   "nbconvert_exporter": "python",
   "pygments_lexer": "ipython3",
   "version": "3.11.4"
  }
 },
 "nbformat": 4,
 "nbformat_minor": 5
}
