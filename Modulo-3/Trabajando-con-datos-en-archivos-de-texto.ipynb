{
 "cells": [
  {
   "cell_type": "markdown",
   "id": "8db36c63-5c75-4b09-932a-165629ef2bd0",
   "metadata": {
    "editable": true,
    "slideshow": {
     "slide_type": ""
    },
    "tags": []
   },
   "source": [
    "**Módulo 3:** Trabajando con datos en archivos de texto"
   ]
  },
  {
   "cell_type": "markdown",
   "id": "0518d5ef-1707-4606-9a42-218b8a76ad43",
   "metadata": {},
   "source": [
    "## Procesamiento de archivos HTML\n",
    "---"
   ]
  },
  {
   "cell_type": "markdown",
   "id": "55b7fa56-9fbd-4524-bf14-611e14d833d4",
   "metadata": {},
   "source": [
    "### Conociendo el módulo BeautifulSoup"
   ]
  },
  {
   "cell_type": "markdown",
   "id": "39fc9db3-d65f-4813-9af7-60634c171410",
   "metadata": {},
   "source": [
    "Existen varias forma de procesar archivos HTML, lo primero es saber que un archivo HTML es un archivo de texto en formato XML, se puede decir que HTML es un tipo especial de XML o por ejemplo un factura CFDi es otro tipo de XML.\n",
    "\n",
    "Para procesar archivos HTML podríamos usar sólo la instruccion `open()` y realizar alguna operación en esa línea, luego la siguiente línea y así hasta terminar, el incoveniente es que la información en un archivo HTML está organizada por etiquetas del tipo `html, head, body, h1` que marcan el inicio y final de un bloque pudiendo terminar en una o varias líneas.\n",
    "\n",
    "Así que obtener información de un archivo HTML o XLM se realiza por medio de módulos o librerías especiales para ello como `lxml`, `xml` o `html5lib`, pero en particular para HTML hay un módulo que simplifica aún más el trabajo y está creado especial mente para procesar información en formato HTML llamado `BeutifulSoup`\n",
    "\n",
    "- Sitio oficial: https://www.crummy.com/software/BeautifulSoup\n",
    "\n",
    "Y para instalarlo se puede realizar con el siguiente comando:\n",
    "\n",
    "`pip install beautifulsoup4`"
   ]
  },
  {
   "cell_type": "code",
   "execution_count": 1,
   "id": "ec41bf5b-6068-42d6-88f9-ca00c5a5fedf",
   "metadata": {},
   "outputs": [
    {
     "name": "stdout",
     "output_type": "stream",
     "text": [
      "Requirement already satisfied: beautifulsoup4 in /home/rctorr/miniconda3/lib/python3.11/site-packages (4.12.2)\n",
      "Requirement already satisfied: soupsieve>1.2 in /home/rctorr/miniconda3/lib/python3.11/site-packages (from beautifulsoup4) (2.4.1)\n"
     ]
    }
   ],
   "source": [
    "!pip install beautifulsoup4"
   ]
  },
  {
   "cell_type": "code",
   "execution_count": 2,
   "id": "e59aeafe-03fa-4661-8926-d8a84474f562",
   "metadata": {},
   "outputs": [
    {
     "name": "stdout",
     "output_type": "stream",
     "text": [
      "iso_3166-2.MX.html\n",
      "Módulo-3_Trabajando-con-datos-en-archivos-de-texto.pdf\n",
      "Trabajando-con-datos-en-archivos-de-texto.ipynb\n"
     ]
    }
   ],
   "source": [
    "!dir"
   ]
  },
  {
   "cell_type": "markdown",
   "id": "593cfc91-5b63-4846-9819-462c5453d803",
   "metadata": {},
   "source": [
    "### Conociendo el lenguaje de marcado HTML"
   ]
  },
  {
   "cell_type": "markdown",
   "id": "9f6c01ec-66b0-4d5c-9d98-406968589243",
   "metadata": {},
   "source": [
    "Para continuar primer veamos un ejemplo de archivo HTML básico:\n",
    "\n",
    "```html\n",
    "<!DOCTYPE html>\n",
    "<html lang=\"es\">\n",
    "<head>\n",
    "  <title>Mi página web</title>\n",
    "</head>\n",
    "<body>\n",
    "  <h1>Este es un encabezado</h1>\n",
    "  <p>Este es un párrafo</p>\n",
    "</body>\n",
    "</html>\n",
    "```\n",
    "\n",
    "Hoy en día se usa HTML5 y una pequeña lista de las etiquetas usadas es la siguiente:\n",
    "\n",
    "| Etiqueta | Descripción |\n",
    "|---|---|\n",
    "| \\<html> | Define el inicio del documento HTML. |\n",
    "| \\<head> | Contiene información sobre el documento HTML, como el título, los enlaces a los estilos CSS y otros metadatos. |\n",
    "| \\<title> | Define el título del documento HTML. |\n",
    "| \\<link> | Enlaza un recurso externo al documento HTML, como un archivo CSS o un archivo JavaScript. |\n",
    "| \\<body> | Contiene el contenido del documento HTML, como texto, imágenes, formularios y otros elementos. |\n",
    "| \\<p> | Define un párrafo de texto. |\n",
    "| \\<h1> | \\<h2> | \\<h3> | \\<h4> | \\<h5> | \\<h6> | Definen encabezados de diferentes tamaños. |\n",
    "| \\<div> | Crea una división en el documento HTML. |\n",
    "| \\<a> | Crea un enlace a otro documento o a otra parte del mismo documento. |\n",
    "| \\<img> | Inserta una imagen en el documento HTML. |\n",
    "| \\<table> | Crea una tabla en el documento HTML. |\n",
    "| \\<tr> | Define una fila en una tabla. |\n",
    "| \\<td> | Define una celda en una tabla. |\n",
    "| \\<form> | Crea un formulario en el documento HTML. |\n",
    "| \\<input> | Crea un campo de entrada en un formulario. |\n",
    "| \\<select> | Crea una lista desplegable en un formulario. |\n",
    "| \\<button> | Crea un botón en un formulario. |\n",
    "\n",
    "Esto es importante saberlo, porque en base a éstas etiquetas haremos la búsqueda de información."
   ]
  },
  {
   "cell_type": "markdown",
   "id": "50a79956-4176-4910-9864-610ee8f88dd7",
   "metadata": {},
   "source": [
    "**Ejemplo:** Dado dado el siguiente código HTML obtén todos los links y el texto asociado a cada uno e imprime una tabla.\n",
    "\n",
    "```html\n",
    "<!DOCTYPE html>\n",
    "<html lang=\"es\">\n",
    "<head>\n",
    "  <title>Mis sitios preferidos</title>\n",
    "</head>\n",
    "<body>\n",
    "  <h1>Mis sitios preferidos</h1>\n",
    "  <p>La siguiente es una lista de sitio que suelo consultar regularmente</p>\n",
    "  <ul>\n",
    "    <li><a href=\"https://www.google.com\">Google</a></li>\n",
    "    <li><a href=\"https://www.wikipedia.org\">Wikipedia</a></li>\n",
    "    <li><a href=\"https://www.youtube.com\">YouTube</a></li>\n",
    "    <li><a href=\"https://www.facebook.com\">Facebook</a></li>\n",
    "    <li><a href=\"https://www.twitter.com\">Twitter</a></li>\n",
    "  </ul>\n",
    "</body>\n",
    "</html>\n",
    "```"
   ]
  },
  {
   "cell_type": "code",
   "execution_count": 1,
   "id": "af7986ca-d815-4724-a509-8c3c40cedb63",
   "metadata": {},
   "outputs": [],
   "source": [
    "from bs4 import BeautifulSoup\n",
    "\n",
    "texto_html = \"\"\"<!DOCTYPE html>\n",
    "<html lang=\"es\">\n",
    "<head>\n",
    "  <title>Mis sitios preferidos</title>\n",
    "</head>\n",
    "<body>\n",
    "  <h1>Mis sitios preferidos</h1>\n",
    "  <p>La siguiente es una lista de sitio que suelo consultar regularmente</p>\n",
    "  <ul>\n",
    "    <li><a href=\"https://www.google.com\">Google</a></li>\n",
    "    <li><a href=\"https://www.wikipedia.org\">Wikipedia</a></li>\n",
    "    <li><a href=\"https://www.youtube.com\">YouTube</a></li>\n",
    "    <li><a href=\"https://www.facebook.com\">Facebook</a></li>\n",
    "    <li><a href=\"https://www.twitter.com\">Twitter</a></li>\n",
    "  </ul>\n",
    "</body>\n",
    "</html>\"\"\"\n",
    "\n",
    "# Resuleve usando un ciclo for\n",
    "sopa = BeautifulSoup(texto_html)\n",
    "sopa"
   ]
  },
  {
   "cell_type": "code",
   "execution_count": 4,
   "id": "d0b40d96-1552-4900-b98f-812e8934ac8c",
   "metadata": {},
   "outputs": [],
   "source": [
    "# usa la función sopa.find_all(tag) para encotrar todas las etiquetas tag"
   ]
  },
  {
   "cell_type": "code",
   "execution_count": 2,
   "id": "4b6c23c2-8487-4d6b-8222-520b773107de",
   "metadata": {},
   "outputs": [],
   "source": [
    "# obtener el texto entre las etiquetas usa tag.text"
   ]
  },
  {
   "cell_type": "code",
   "execution_count": 3,
   "id": "af434be2-2f0f-40af-8829-586de503154d",
   "metadata": {},
   "outputs": [],
   "source": [
    "# obtener el contenido de algún atributo usar tag.attrs[atributo]"
   ]
  },
  {
   "cell_type": "code",
   "execution_count": 5,
   "id": "251ef7c4-cad6-440f-bb3d-2bbc594e659d",
   "metadata": {},
   "outputs": [],
   "source": [
    "# obtén a mano los primeros dos link y su texto"
   ]
  },
  {
   "cell_type": "code",
   "execution_count": 6,
   "id": "a356951a-27af-44ae-a25d-3e86a4a12d96",
   "metadata": {},
   "outputs": [],
   "source": [
    "# podemos usar un ciclo for"
   ]
  },
  {
   "cell_type": "markdown",
   "id": "260bb9d7-f54e-4f3d-9c04-fdc6df5bb641",
   "metadata": {},
   "source": [
    "**Ejemplo:** Un poco más interesante, usa el archivo descargado de la Wikipedia en el módulo anterior, copialo a ésta carpeta (lo simple es bello) y obten una lista que incluya el nombre del estado y su código ISO a 3 letras (5 si se incluye el MX), impre una tabla como resultado."
   ]
  },
  {
   "cell_type": "code",
   "execution_count": 7,
   "id": "1f547f98-c3b5-472f-8820-a2857886a1ab",
   "metadata": {},
   "outputs": [],
   "source": [
    "from bs4 import BeautifulSoup\n",
    "\n",
    "# Leer archivo\n",
    "# Procesar archivo usando BeautifulSoup\n",
    "# Encuentra la tabla ojetivo\n",
    "# Encuentra las filas objetivo\n",
    "# Crea una lista de los estados usando los índices de las columnas adecuadas\n",
    "# Valida que los datos de ambas columnas estén limpias\n",
    "# Imprime una tabla"
   ]
  },
  {
   "cell_type": "markdown",
   "id": "fc367c96-e46d-4b5e-9198-09d8153fb472",
   "metadata": {},
   "source": [
    "## Manejo de Archivos CSV\n",
    "---"
   ]
  },
  {
   "cell_type": "markdown",
   "id": "0529f661-707e-4e9b-b294-7133df619320",
   "metadata": {},
   "source": [
    "### Conociendo el formato de archivos CSV"
   ]
  },
  {
   "cell_type": "markdown",
   "id": "cb4c5c8b-94f7-429e-ae5a-f42760fc1f1b",
   "metadata": {},
   "source": [
    "A continuación se muestra un ejemplo del contenido de un archivo CSV:\n",
    "\n",
    "```csv\n",
    "nombre,apellido,edad,sexo\n",
    "Juan,Perez,21,M\n",
    "Maria,Lopez,23,F\n",
    "Pedro,Garcia,25,M\n",
    "Ana,Martinez,27,F\n",
    "```\n",
    "\n",
    "Así que las características del formato de archivos de texto CSV se puede resumir en la siguiente tabla:\n",
    "\n",
    "| Característica | Descripción |\n",
    "|---|---|\n",
    "| Formato | Comma Separated Values (CSV) |\n",
    "| Separador | Coma (,) |\n",
    "| Filas | Cada fila representa una línea de datos |\n",
    "| Columnas | Cada columna representa un campo de datos |\n",
    "| Datos | Los datos pueden ser de cualquier tipo, como números, texto, fechas, etc. |\n",
    "| Formato | Los datos pueden estar formateados de diversas maneras, como con comillas, espacios, etc. |\n",
    "| Usos | Los archivos CSV se pueden utilizar para almacenar una gran variedad de datos, como listas de clientes, productos, ventas, etc. |\n",
    "| Software | Los archivos CSV pueden ser abiertos por una gran variedad de software, como Microsoft Excel, OpenOffice Calc, etc. |\n"
   ]
  },
  {
   "cell_type": "markdown",
   "id": "8d39bdd2-44e6-4a0e-a022-8aafebdf9ee3",
   "metadata": {},
   "source": [
    "### Conociendo el módulo `csv`"
   ]
  },
  {
   "cell_type": "markdown",
   "id": "af1035b6-9ab3-4c4c-815e-c3eb74577082",
   "metadata": {},
   "source": [
    "La librería estándar de Python cuenta con el módulo `csv` que permite leer y escribir listas de datos en formato CSV, como es parte de la librería estándar no es necesario instalarlo, sólo hay que importarlo.\n",
    "\n",
    "**Ejemplo:** Lee el contenido del archivo `fulanitos.csv` e imprime una tabla con el resultado."
   ]
  },
  {
   "cell_type": "code",
   "execution_count": 8,
   "id": "6edb78de-9a25-4202-87d6-74f18d4e29fe",
   "metadata": {},
   "outputs": [],
   "source": [
    "import csv\n",
    "\n"
   ]
  },
  {
   "cell_type": "markdown",
   "id": "1cf3566a-8abb-4bb3-a29d-565a8629d581",
   "metadata": {},
   "source": [
    "**Ejemplo:** Escribe en un archivo llamado `mexico-estados-iso31662mx.csv` con la lista obtenida de los estados con su código ISO al hacer web scrapping a la página web de la Wikipedia, agrega una fila adicional con el nombre de las columnas."
   ]
  },
  {
   "cell_type": "code",
   "execution_count": 9,
   "id": "6a0201da-9cee-4880-9bbe-404189ecda55",
   "metadata": {},
   "outputs": [],
   "source": [
    "import csv\n",
    "\n"
   ]
  },
  {
   "cell_type": "markdown",
   "id": "9bcaa5e4-05f7-4f18-a297-d515d5886d40",
   "metadata": {},
   "source": [
    "## Manejo de Archivos JSON\n",
    "---"
   ]
  },
  {
   "cell_type": "markdown",
   "id": "1c063fd7-c193-42c9-90b2-19ed42660c4b",
   "metadata": {},
   "source": [
    "### Conociendo el formato de archivos JSON"
   ]
  },
  {
   "cell_type": "markdown",
   "id": "b9c441f4-7f36-4c35-a0dc-2f8ffc3c51c9",
   "metadata": {},
   "source": [
    "A continuación se muestra un ejemplo del contenido de un archivo JSON:\n",
    "\n",
    "```json\n",
    "{\n",
    "  \"nombre\": \"Juan Pérez\",\n",
    "  \"apellido\": \"López\",\n",
    "  \"edad\": 21,\n",
    "  \"sexo\": \"M\",\n",
    "  \"fecha_nacimiento\": \"1999-01-01\",\n",
    "  \"direccion\": {\n",
    "    \"calle\": \"Calle 1\",\n",
    "    \"numero\": 123,\n",
    "    \"colonia\": \"Colonia Centro\",\n",
    "    \"ciudad\": \"Ciudad de México\",\n",
    "    \"estado\": \"CDMX\",\n",
    "    \"pais\": \"México\"\n",
    "  },\n",
    "  \"telefonos\": [\n",
    "    \"+52 55 5555 5555\",\n",
    "    \"+52 55 5555 5556\"\n",
    "  ],\n",
    "  \"correos_electronicos\": [\n",
    "    \"juan.perez@example.com\",\n",
    "    \"juan.perez2@example.com\"\n",
    "  ]\n",
    "}\n",
    "```\n",
    "\n",
    "Así que las características del formato de archivos de texto JSON se puede resumir en la siguiente tabla:\n",
    "\n",
    "| Característica | Descripción |\n",
    "|---|---|\n",
    "| Formato | JavaScript Object Notation (JSON) |\n",
    "| Sintaxis | Basada en texto |\n",
    "| Tipos de datos | Cadena, número, booleano, objeto, array |\n",
    "| Estructura | Objetos anidados |\n",
    "| Portabilidad | Compatible con muchos lenguajes de programación |\n",
    "| Usos | Intercambio de datos, serialización de objetos, representación de datos |\n",
    "| Software | Muchos lenguajes de programación tienen soporte para JSON |"
   ]
  },
  {
   "cell_type": "markdown",
   "id": "f81fd925-0c0d-4ce1-a100-fb474dffb7eb",
   "metadata": {},
   "source": [
    "### Conociendo el módulo `json`"
   ]
  },
  {
   "cell_type": "markdown",
   "id": "04e6753e-fa2b-495a-b4dd-5f6157c0dd4a",
   "metadata": {},
   "source": [
    "La librería estándar de Python cuenta con el módulo `json` que permite leer y escribir datos en formato JOSN, como es parte de la librería estándar no es necesario instalarlo, sólo hay que importarlo.\n",
    "\n",
    "**Ejemplo:** Lee el contenido del archivo `persona.json` e imprime el resultado."
   ]
  },
  {
   "cell_type": "code",
   "execution_count": 10,
   "id": "49f987ed-e843-460b-9f6f-16b00a848857",
   "metadata": {},
   "outputs": [],
   "source": [
    "import json\n",
    "from pprint import pprint\n",
    "\n"
   ]
  },
  {
   "attachments": {
    "f5e1bd7e-ec1c-4b72-8e15-e1790594bbaa.png": {
     "image/png": "[encoded data removed]"
    }
   },
   "cell_type": "markdown",
   "id": "b2fc2cb0-7458-452d-9fc2-5fc398428cc2",
   "metadata": {},
   "source": [
    "![image.png](attachment:f5e1bd7e-ec1c-4b72-8e15-e1790594bbaa.png)\n",
    "\n",
    "**Ejemplo:** El sitio [The Movie DB](themoviedb.org) mantiene una base de datos de películas de todo el mundos con métricas interesante, una de ellas es la lista del top de películas en base a las más votadas de todos los tiempos y puede ser consultada en la página [Pelĺiculas más votadas](https://www.themoviedb.org/movie/top-rated).\n",
    "\n",
    "Adicionalmente The Mivide DB cuenta con un acceso vía API que permite tener acceso a la base de datos en tiempo real y pueder ser consultada por todo tipo de público y para ello cuentan con una página bien documentada donde se indica el procedimiento para obtener una llave (**key**) y como hacer uso de la API, así como de la información disponible en el sitio [TMDB API](https://developer.themoviedb.org/docs).\n",
    "\n",
    "Obtén la lista de la películas más votadas usando la API consultando la documentación en el siguiente [link](https://developer.themoviedb.org/reference/movie-top-rated-list) y almacena la lista de las películas más votadas en el archivo `top-rated-movies.json`"
   ]
  },
  {
   "cell_type": "code",
   "execution_count": 11,
   "id": "14dcd96f-f9fa-425e-ad41-ebc41aa054f9",
   "metadata": {
    "scrolled": true
   },
   "outputs": [],
   "source": [
    "import json\n",
    "from pprint import pprint\n",
    "import requests\n",
    "\n"
   ]
  },
  {
   "cell_type": "markdown",
   "id": "c078857e-d31b-47ea-a212-a2c3bdd42a59",
   "metadata": {},
   "source": [
    "Analizando la respuesta obtenida identificando el tipo de dato de Python"
   ]
  },
  {
   "cell_type": "code",
   "execution_count": null,
   "id": "f162ea05-6dd4-40ee-9e33-0773ac73c617",
   "metadata": {},
   "outputs": [],
   "source": []
  },
  {
   "cell_type": "markdown",
   "id": "19eaf774-7db5-4605-b0c8-daf430e37f9f",
   "metadata": {},
   "source": [
    "Ahora listamos las llaves y exploramos para comprender los datos"
   ]
  },
  {
   "cell_type": "code",
   "execution_count": null,
   "id": "5e45756a-9c9b-4420-8451-36e463315c4b",
   "metadata": {},
   "outputs": [],
   "source": []
  },
  {
   "cell_type": "code",
   "execution_count": null,
   "id": "a3371152-2e70-4086-9fe4-7155785dc5d1",
   "metadata": {},
   "outputs": [],
   "source": []
  },
  {
   "cell_type": "code",
   "execution_count": null,
   "id": "5ccadb66-40a9-4720-a871-7e9efb0548b6",
   "metadata": {},
   "outputs": [],
   "source": []
  },
  {
   "cell_type": "code",
   "execution_count": null,
   "id": "36d0875b-02e5-4585-afb7-0f4e38c57716",
   "metadata": {},
   "outputs": [],
   "source": []
  },
  {
   "cell_type": "markdown",
   "id": "eabba2f7-f59a-494c-b2b9-803dd4af95da",
   "metadata": {},
   "source": [
    "En el caso de que se necesite usar un proxy para el acceso a la API con el módulo requests se puede hacer lo siguiente:\n",
    "\n",
    "```python\n",
    "proxies = {\n",
    "    \"http\": \"http://127.0.0.1:8080\",\n",
    "    \"https\": \"https://127.0.0.1:8080\"\n",
    "}\n",
    "\n",
    "response = requests.get(url, proxies=proxies)\n",
    "```"
   ]
  },
  {
   "cell_type": "markdown",
   "id": "a45de416-e7db-4c81-92ab-fbf8d6cb91a2",
   "metadata": {},
   "source": [
    "## Procesamiento de Textos en Lenguajes Naturales\n",
    "---"
   ]
  },
  {
   "cell_type": "markdown",
   "id": "1f685e53-c510-42c7-b0bc-e82f05216fdc",
   "metadata": {},
   "source": [
    "Cuando se trabaja con datos que incluyen exto en lenguaje natural es importante hacer algunas consideraciones.\n",
    "\n",
    "- Usar el mismo conjunto de caracteres (latin-1, iso8859-1, utf-8, ascii(\n",
    "- Para los sistemas mayúsculas y minúsculas son diferentes, para un lenguaje natural el significado no cambia, así que antes de realizar algún análisis transforar todo a minúsculas o mayúsculas\n",
    "- Los símbolos especiales de cada lenguaje generalmente deben ser eliminados dejando sólo las palabras y los blancos.\n",
    "- En el lenguaje en Español en particulas además también hay que eliminar acentos, ya que *México* es distinto a *Mexico* y puede generar resultados incovenientes.\n",
    "\n",
    "**Ejemplo:** Dados las siguientes listas de nombres, utiliza todos las herramientas vistas hasta ahorita para intentar comtejar las columnas de nombres de ambas listas. Comenta tus resultados.\n",
    "\n",
    "Los archivos a cotejar son:\n",
    "- `lista-de-participantes.csv`\n",
    "- `participants_91461136067_20230808.csv`\n"
   ]
  },
  {
   "cell_type": "code",
   "execution_count": 12,
   "id": "10b45491-c7b4-42ef-9f41-d498e39ce50c",
   "metadata": {},
   "outputs": [],
   "source": [
    "import csv\n",
    "\n",
    "# Leyendo registros de abmas listas y encuentra e imprime las diferencias\n"
   ]
  }
 ],
 "metadata": {
  "kernelspec": {
   "display_name": "Python 3 (ipykernel)",
   "language": "python",
   "name": "python3"
  },
  "language_info": {
   "codemirror_mode": {
    "name": "ipython",
    "version": 3
   },
   "file_extension": ".py",
   "mimetype": "text/x-python",
   "name": "python",
   "nbconvert_exporter": "python",
   "pygments_lexer": "ipython3",
   "version": "3.11.4"
  }
 },
 "nbformat": 4,
 "nbformat_minor": 5
}
