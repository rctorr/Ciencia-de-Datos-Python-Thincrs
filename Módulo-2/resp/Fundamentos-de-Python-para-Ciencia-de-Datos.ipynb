{
 "cells": [
  {
   "cell_type": "markdown",
   "id": "8db36c63-5c75-4b09-932a-165629ef2bd0",
   "metadata": {},
   "source": [
    "**Módulo 2:** Fundamentos de Python para la Ciencia de Datos"
   ]
  },
  {
   "cell_type": "markdown",
   "id": "0518d5ef-1707-4606-9a42-218b8a76ad43",
   "metadata": {},
   "source": [
    "## La librería estándar de Python\n",
    "---"
   ]
  },
  {
   "cell_type": "markdown",
   "id": "37275929-9109-47a4-95c1-493e33844d81",
   "metadata": {
    "jp-MarkdownHeadingCollapsed": true
   },
   "source": [
    "- Sitio oficial https://docs.python.org/3/library/index.html\n",
    "- Funciones interconstruidas en Python https://docs.python.org/3/library/functions.html\n",
    "- Tipos de datos interconstruidos en Python https://docs.python.org/3/library/stdtypes.html\n",
    "- Creando y revisado por la Fundación de Python"
   ]
  },
  {
   "cell_type": "markdown",
   "id": "5673edb7-7419-45e6-8d7c-a75e9a280f46",
   "metadata": {},
   "source": [
    "## El repositorio de paquetes de la comunidad\n",
    "---"
   ]
  },
  {
   "cell_type": "markdown",
   "id": "2050bc70-94f7-4c5b-a8f1-e9fd9d772b8c",
   "metadata": {
    "jp-MarkdownHeadingCollapsed": true
   },
   "source": [
    "- Sitio oficial de PyPi (Python Package Indicex) https://pypi.org/\n",
    "- No oficial\n",
    "- Creado por la comunidad\n",
    "- No confiar en cualquier paquete, módulo o librería"
   ]
  },
  {
   "cell_type": "markdown",
   "id": "ad84eb16-cd75-4dca-a60b-6181aeb3b4b2",
   "metadata": {},
   "source": [
    "## Tipos de datos interconstruidos en Python\n",
    "---"
   ]
  },
  {
   "cell_type": "markdown",
   "id": "fae8d87d-bde8-4f04-a8d0-312e704da4ea",
   "metadata": {},
   "source": [
    "| Tipo de dato | Ejemplo de información | Ejemplo en Python |\n",
    "|---|---|---|\n",
    "| **int** | Cantidad, Edad, Contadores | `23, 99, 12345` |\n",
    "| **float** | Núm. con decimales, Moneda | `37.8, 75.1, 12345.67` |\n",
    "| **str** | Texto | \"00123\", \"Fulanito García\", `'$12345.67 M.N'` |\n",
    "| **bool** | Valores lógicos | `True, False` |\n",
    "|---|---|---|\n",
    "| **list** | Lista de ventas, Lista mixta | `[1, 2.5, \"tres\", True]` |\n",
    "| **tuple** | Listas que generalmente no cambian | `(1, 2.5, \"tres\", True)` |\n",
    "| **set** | Cual es la intersección entre dos conjuntos | `a.intersection(b)` |\n",
    "| **dict** | Lista de empleados en base a su ID | `{\"001\":\"Fulanito García\"}` |\n"
   ]
  },
  {
   "cell_type": "markdown",
   "id": "5a72c00b-1af0-4072-9bc2-96f1d491720d",
   "metadata": {},
   "source": [
    "### Comprendiendo tipos de datos nuyméricos y operaciones"
   ]
  },
  {
   "cell_type": "markdown",
   "id": "9db60b1f-9306-4f14-b89b-49fd1c6cbea9",
   "metadata": {},
   "source": [
    "| Operador   | Operación            | Ejemplo en Python   |\n",
    "|------------|----------------------|---------------------|\n",
    "| +          | suma                 | 5 + 11              |\n",
    "| -          | resta                | 5 - 11              |\n",
    "| /          | división             | 5 / 2               |\n",
    "| *          | producto             | 5 * 22              |\n",
    "| **         | potencia             | 5 ** 2              |\n",
    "| //         | división hacia abajo | 5 // 2              |\n",
    "| %          | módulo               | 5 % 2               |\n"
   ]
  },
  {
   "cell_type": "markdown",
   "id": "2ac20aea-3fad-46f4-bbb2-9bf8d78bfc4d",
   "metadata": {},
   "source": [
    "Realicemos algunas operaciones numéricas +, -, *, /, **:"
   ]
  },
  {
   "cell_type": "code",
   "execution_count": 6,
   "id": "d4e12d9c-fb33-44f5-bb1d-477fdf0c454e",
   "metadata": {},
   "outputs": [
    {
     "name": "stdout",
     "output_type": "stream",
     "text": [
      "16\n",
      "-6\n",
      "2.5\n",
      "110\n",
      "25\n"
     ]
    }
   ],
   "source": [
    "print(5 + 11)\n",
    "print(5 - 11)\n",
    "print(5 / 2)\n",
    "print(5 * 22)\n",
    "print(5 ** 2)"
   ]
  },
  {
   "cell_type": "markdown",
   "id": "35fd374f-05ec-439d-bd20-ee0e15006e7c",
   "metadata": {},
   "source": [
    "Realicemos algunas operaciones numéricas /, // y %:\n",
    "\n",
    "$$5 / 2 = \\color{red}2\\color{black}.5 => 2.5 * 2 = 5$$\n",
    "\n",
    "$$5 // 2 = \\color{red}2\\color{black}  =>  2 * 2 = 4 => 5 - 4 = \\color{green}1\\color{black} (residuo)$$\n",
    "\n",
    "$$5 \\% 2 = \\color{green}1$$"
   ]
  },
  {
   "cell_type": "code",
   "execution_count": 17,
   "id": "5f538f1a-d82d-412b-9e79-80d678c01d66",
   "metadata": {},
   "outputs": [
    {
     "name": "stdout",
     "output_type": "stream",
     "text": [
      "2.5\n",
      "5.0\n",
      "2\n",
      "4\n",
      "1\n",
      "1\n"
     ]
    }
   ],
   "source": [
    "print(5 / 2)\n",
    "print(2.5 * 2)\n",
    "print(5 // 2)  # <-\n",
    "print(2 * 2)\n",
    "print(5 - 4)\n",
    "print(5 % 2)  # <-"
   ]
  },
  {
   "cell_type": "markdown",
   "id": "88872013-ffd8-4801-b0d2-9d57c3c59234",
   "metadata": {},
   "source": [
    "### Comprendiendo operadores de asignación"
   ]
  },
  {
   "cell_type": "markdown",
   "id": "b7509b9f-c5f1-40e0-959e-0495cb90f973",
   "metadata": {},
   "source": [
    "| Operador   | Operación            | Ejemplo             |\n",
    "|------------|----------------------|---------------------|\n",
    "| =          | x = 11               | x = 11              |\n",
    "| +=         | x = x + 5            | x += 5              |\n",
    "| -=         | x = x - 5            | x -= 5              |\n",
    "| *=         | x = x * 5            | x *= 5              |\n",
    "| /=         | x = x / 5            | x /= 5              |\n",
    "| %=         | x = x % 5            | x %= 5              |\n",
    "| //=        | x = x // 5           | x //= 5             |\n",
    "| **=        | x = x ** 5           | x **= 5             |\n",
    "\n",
    "Realicemos algunas operaciones:"
   ]
  },
  {
   "cell_type": "code",
   "execution_count": 24,
   "id": "33bd65bf-72f0-4ed3-a482-cf8488b00e6f",
   "metadata": {},
   "outputs": [
    {
     "data": {
      "text/plain": [
       "35.0"
      ]
     },
     "execution_count": 24,
     "metadata": {},
     "output_type": "execute_result"
    }
   ],
   "source": [
    "a = 10\n",
    "a\n",
    "b = 11.5\n",
    "b\n",
    "c = a + b * 2\n",
    "c = c + 1\n",
    "c += 2\n",
    "c -= 1\n",
    "c"
   ]
  },
  {
   "cell_type": "markdown",
   "id": "536ba251-dc79-43f6-8ffc-9f1d9d6ef25a",
   "metadata": {},
   "source": [
    "### Comprendiendo operadores de comparación"
   ]
  },
  {
   "cell_type": "markdown",
   "id": "b81bf718-c559-4219-9f7f-7ac297c1d2ee",
   "metadata": {},
   "source": [
    "| Operador   | Operación            | Ejemplo             |\n",
    "|------------|----------------------|---------------------|\n",
    "| ==         | es igual             | x == y              |\n",
    "| !=         | es diferente         | x != y              |\n",
    "| <          | es menor que         | x < y               |\n",
    "| <=         | es menor o igual que | x <= y              |\n",
    "| >          | es mayor que         | x > 5               |\n",
    "| >=         | es mayor o igual que | x >= 5              |\n",
    "\n",
    "Realicemos algunas operaciones:"
   ]
  },
  {
   "cell_type": "code",
   "execution_count": 32,
   "id": "7a775968-081d-4065-9086-550fa35476e5",
   "metadata": {},
   "outputs": [
    {
     "name": "stdout",
     "output_type": "stream",
     "text": [
      "False\n",
      "True\n",
      "False\n",
      "True\n",
      "True\n",
      "False\n",
      "False\n"
     ]
    }
   ],
   "source": [
    "print(10 == 11)\n",
    "print(10 != 11)\n",
    "print(10 < 5)\n",
    "print(10 >= 5)\n",
    "a = 100\n",
    "b = 100.1\n",
    "print(a <= b)\n",
    "print( a + b <= 200)\n",
    "print( (a + b) <= 200)"
   ]
  },
  {
   "cell_type": "markdown",
   "id": "464b3bd6-6413-4444-b813-d7d3c97e5046",
   "metadata": {},
   "source": [
    "### Comprendiendo operadores lógicos"
   ]
  },
  {
   "cell_type": "markdown",
   "id": "9e1d0320-e1f8-4dd6-a910-337a142af720",
   "metadata": {},
   "source": [
    "| Operador   | Operación            | Ejemplo             |\n",
    "|------------|----------------------|---------------------|\n",
    "| and        | Regresa verdadero si ambas expresiones son verdaderas | x == y and x <= 100 |\n",
    "| or         | Regresa verdadero si una de las expresiones es verdadera | x != y or 0 < y  |\n",
    "| not        | Invierte el resultado | not( x < y ) |\n",
    "| in         | Regresa verdadero si un elementos está presente en una secuencia | x in list_y |\n",
    "| not in     | Regresa verdadero si un elementos no está presente en una secuencia | x not in list_y |\n",
    "\n",
    "Realicemos algunas operaciones:"
   ]
  },
  {
   "cell_type": "code",
   "execution_count": 41,
   "id": "43dbd530-61f7-4f0e-8b10-8bdaf09f819e",
   "metadata": {},
   "outputs": [
    {
     "name": "stdout",
     "output_type": "stream",
     "text": [
      "False\n",
      "True\n",
      "False\n",
      "False\n",
      "True\n"
     ]
    }
   ],
   "source": [
    "x = 5\n",
    "y = 10 \n",
    "\n",
    "print(x == y and y < 100)\n",
    "print(x != y or 0 < y)\n",
    "print( not(x != y or 0 < y) )\n",
    "print( x in [1,2,3,4])\n",
    "print( x not in [1,2,3,4])\n"
   ]
  },
  {
   "cell_type": "markdown",
   "id": "ca22eeab-b6cb-4399-b7f3-a69c6d7ae9e4",
   "metadata": {},
   "source": [
    "**Ejercita tu mente:** Resuelve usando algunas variables y operaciones numéricas de Python:\n",
    "\n",
    "> Karen es 8 años mayor que Cristina, si ambas edades suman 67 años ¿Cuántos años tiene cada una?"
   ]
  },
  {
   "cell_type": "code",
   "execution_count": 43,
   "id": "b7d6da8c-7744-42c2-a6f6-14718d67546a",
   "metadata": {},
   "outputs": [
    {
     "name": "stdout",
     "output_type": "stream",
     "text": [
      "37.5 29.5\n"
     ]
    }
   ],
   "source": [
    "c = (67 - 8) / 2\n",
    "k = c + 8\n",
    "print(k, c)"
   ]
  },
  {
   "cell_type": "markdown",
   "id": "f4838fd1-3c69-4c2e-b34b-41fab375888f",
   "metadata": {},
   "source": [
    "## Comprendiendo operaciones y funciones de Strings\n",
    "---"
   ]
  },
  {
   "cell_type": "markdown",
   "id": "ef78d520-0cd2-44b5-b1e6-4908ecaaecd4",
   "metadata": {},
   "source": [
    "### Creando cadenas de texto (str)"
   ]
  },
  {
   "cell_type": "markdown",
   "id": "0c37de63-d453-4b4b-93da-74785e8d0047",
   "metadata": {},
   "source": [
    "| Definición   | Descripción            | Ejemplo             |\n",
    "|------------|----------------------|---------------------|\n",
    "| \"\", ''     | Crea una cadena vacía | \"\" |\n",
    "| \"texto\", 'texto' | Crea una cadena con información inicial | \"Benito Bodoque\" |\n",
    "| \"\"\"texto multi línea\"\"\" | Crea una cadena que puede ser escríta en múltipleas línea  | (hacer ejemplo) |\n",
    "\n",
    "Realicemos algunas operaciones:"
   ]
  },
  {
   "cell_type": "code",
   "execution_count": 49,
   "id": "780db3a6-b31f-4bd9-85b7-fc89eea06490",
   "metadata": {},
   "outputs": [
    {
     "data": {
      "text/plain": [
       "'Linea 1\\nLinea2\\nLinea3'"
      ]
     },
     "execution_count": 49,
     "metadata": {},
     "output_type": "execute_result"
    }
   ],
   "source": [
    "''\n",
    "\"Benito Bodoque\"\n",
    "'''Linea 1\n",
    "Linea2\n",
    "Linea3'''"
   ]
  },
  {
   "cell_type": "markdown",
   "id": "6e6e3e14-ee0e-4930-b005-9298a9592d6d",
   "metadata": {},
   "source": [
    "### Comprendiendo operadores con cadenas (str)"
   ]
  },
  {
   "cell_type": "markdown",
   "id": "ee6fa509-4bed-4563-9671-bb36dbca3a8c",
   "metadata": {},
   "source": [
    "| Operador   | Operación            | Ejemplo             |\n",
    "|------------|----------------------|---------------------|\n",
    "| +          | Concatena o une dos cadenas | \"uno\" + \"dos\" -> \"unodos\" |\n",
    "| *          | Crea n copias de la cadena  | \"uno\" * 3 -> \"unounouno\" |\n",
    "\n",
    "Realicemos algunas operaciones:"
   ]
  },
  {
   "cell_type": "code",
   "execution_count": 57,
   "id": "867a37d8-b09a-4483-8964-9fe9288522a4",
   "metadata": {},
   "outputs": [
    {
     "data": {
      "text/plain": [
       "'============================================================'"
      ]
     },
     "execution_count": 57,
     "metadata": {},
     "output_type": "execute_result"
    }
   ],
   "source": [
    "\"uno\" + \" \" +  \"dos\"\n",
    "\"uno \" * 3\n",
    "\"=\" * 60"
   ]
  },
  {
   "cell_type": "markdown",
   "id": "da3fc5b9-bc07-47fb-8208-572217d49394",
   "metadata": {},
   "source": [
    "### Comprendiendo símbolos especiales de formato (herados de lenguaje C)"
   ]
  },
  {
   "cell_type": "markdown",
   "id": "0ded07d4-fef1-4ad8-996a-0d67cd34b7ad",
   "metadata": {},
   "source": [
    "| Símbolo   | Descripción            | Ejemplo             |\n",
    "|-----------|----------------------|---------------------|\n",
    "| \\n        | Salta o avanza el cursor de línea | \"Línea 1\\nLínea 2\" |\n",
    "| \\r        | Regresa el cursor al inicio de línea | \"Línea 1\\n\\rLínea 2\" |\n",
    "| \\t        | Inserta un tabulador | \"Columna 1\\tColumna 2\" |\n",
    "\n",
    "Realicemos algunas operaciones:"
   ]
  },
  {
   "cell_type": "code",
   "execution_count": 63,
   "id": "88601a4e-1f32-4858-a97d-c447f6303b58",
   "metadata": {},
   "outputs": [
    {
     "name": "stdout",
     "output_type": "stream",
     "text": [
      "uno\tdos\ttres\tcuatro\n",
      "linea1\n",
      "linea2\n",
      "linea3\n"
     ]
    }
   ],
   "source": [
    "cad = \"uno\\tdos\\ttres\\tcuatro\"\n",
    "print(cad)\n",
    "lineas = \"linea1\\nlinea2\\nlinea3\"\n",
    "print(lineas)"
   ]
  },
  {
   "cell_type": "markdown",
   "id": "fd315cb9-da15-42f6-9966-c30c7f8d5803",
   "metadata": {},
   "source": [
    "### Comprendiendo algunas funciones de cadenas (str)"
   ]
  },
  {
   "cell_type": "markdown",
   "id": "c98c815d-d38a-44ae-a48b-3bd46af7418f",
   "metadata": {},
   "source": [
    "| Función    | Descripción            | Ejemplo             |\n",
    "|------------|----------------------|---------------------|\n",
    "| strip()    | Elimina blancos antes y después | \"\\tLínea 1\\nLínea 2\\n\\r   \".split() |\n",
    "| split(sep) | Divide la cadena en base a *sep* o los símbolos en blanco | \"Col 1\\tCol 2 Col 3\" |\n",
    "| find(sub)  | Regresa el menor índice donde aparece sub cadena | \"12345671234\".find(\"34\") |\n",
    "| count(sub)  | Cuenta el número de sub cadenas | \"12345671234\".count(\"34\") |\n",
    "\n",
    "Realicemos algunas operaciones:"
   ]
  },
  {
   "cell_type": "code",
   "execution_count": 64,
   "id": "c7d8e327-db25-48cd-9ade-663f3494aad0",
   "metadata": {},
   "outputs": [
    {
     "data": {
      "text/plain": [
       "'Línea 1\\nLínea 2'"
      ]
     },
     "execution_count": 64,
     "metadata": {},
     "output_type": "execute_result"
    }
   ],
   "source": [
    "\"\\tLínea 1\\nLínea 2\\n\\r \".strip()"
   ]
  },
  {
   "cell_type": "code",
   "execution_count": 65,
   "id": "38acf7fe-e463-4f12-a817-ec18d523c8ce",
   "metadata": {},
   "outputs": [
    {
     "data": {
      "text/plain": [
       "['Línea', '1', 'Línea', '2']"
      ]
     },
     "execution_count": 65,
     "metadata": {},
     "output_type": "execute_result"
    }
   ],
   "source": [
    "\"\\tLínea 1\\nLínea 2\\n\\r \".split()"
   ]
  },
  {
   "cell_type": "code",
   "execution_count": 66,
   "id": "69d9d122-809c-4cc8-ac35-08821be95c0b",
   "metadata": {},
   "outputs": [
    {
     "data": {
      "text/plain": [
       "['\\tLínea 1', 'Línea 2', '\\r ']"
      ]
     },
     "execution_count": 66,
     "metadata": {},
     "output_type": "execute_result"
    }
   ],
   "source": [
    "\"\\tLínea 1\\nLínea 2\\n\\r \".split(\"\\n\")"
   ]
  },
  {
   "cell_type": "code",
   "execution_count": 69,
   "id": "73dae404-dd45-4314-a07f-d4edc6c736ae",
   "metadata": {},
   "outputs": [
    {
     "data": {
      "text/plain": [
       "1"
      ]
     },
     "execution_count": 69,
     "metadata": {},
     "output_type": "execute_result"
    }
   ],
   "source": [
    "\"12345671234\".count(\"56\")"
   ]
  },
  {
   "cell_type": "markdown",
   "id": "ad3e48c4-9bef-4eb0-b5b1-1c6c87bc8047",
   "metadata": {},
   "source": [
    "Pero podemos obtener ayuda de Python, veamos como:"
   ]
  },
  {
   "cell_type": "code",
   "execution_count": 70,
   "id": "dc0118dd-2882-46e4-bb5a-ac6afc55d785",
   "metadata": {},
   "outputs": [
    {
     "data": {
      "text/plain": [
       "\u001b[0;31mSignature:\u001b[0m \u001b[0mstr\u001b[0m\u001b[0;34m.\u001b[0m\u001b[0mupper\u001b[0m\u001b[0;34m(\u001b[0m\u001b[0mself\u001b[0m\u001b[0;34m,\u001b[0m \u001b[0;34m/\u001b[0m\u001b[0;34m)\u001b[0m\u001b[0;34m\u001b[0m\u001b[0;34m\u001b[0m\u001b[0m\n",
       "\u001b[0;31mDocstring:\u001b[0m Return a copy of the string converted to uppercase.\n",
       "\u001b[0;31mType:\u001b[0m      method_descriptor"
      ]
     },
     "metadata": {},
     "output_type": "display_data"
    }
   ],
   "source": [
    "str.upper?"
   ]
  },
  {
   "cell_type": "code",
   "execution_count": 73,
   "id": "8e8925b9-7e00-44b7-a6f2-d96459255142",
   "metadata": {},
   "outputs": [
    {
     "name": "stdout",
     "output_type": "stream",
     "text": [
      "BENITO\n"
     ]
    }
   ],
   "source": [
    "nombre = \"benito\".upper()\n",
    "print(nombre)"
   ]
  },
  {
   "cell_type": "markdown",
   "id": "51c76830-4e45-419c-9a92-0157e1271760",
   "metadata": {},
   "source": [
    "## Comprendiendo operaciones y funciones de Listas (list)\n",
    "---"
   ]
  },
  {
   "cell_type": "markdown",
   "id": "1260aad1-89e3-44c2-a272-0b1320ac8cbc",
   "metadata": {},
   "source": [
    "### Creando listas (list)"
   ]
  },
  {
   "cell_type": "markdown",
   "id": "cf868414-b4f9-45b3-9962-4d4eda7df4a4",
   "metadata": {},
   "source": [
    "| Definición   | Descripción            | Ejemplo             |\n",
    "|--------------|----------------------|---------------------|\n",
    "| [], list()   | Crea una lista vacía | [], list() |\n",
    "| [-elementos-]| Crea una lista con información incial | [1, 2, \"tres\", 4.5, True] |\n",
    "| list(range(n)) | Crea una lista de n números iniciando en 0  | list(range(10)) |\n",
    "| list(str) | Crea una lista con las letras de str | list(\"Hola mundo!\") |\n",
    "\n",
    "Realicemos algunas operaciones:"
   ]
  },
  {
   "cell_type": "code",
   "execution_count": 3,
   "id": "1f643901-29f2-4dda-b13a-e9aed0efc7e3",
   "metadata": {},
   "outputs": [
    {
     "data": {
      "text/plain": [
       "[]"
      ]
     },
     "execution_count": 3,
     "metadata": {},
     "output_type": "execute_result"
    }
   ],
   "source": [
    "clientes_cdmx = []\n",
    "clientes_cdmx"
   ]
  },
  {
   "cell_type": "code",
   "execution_count": 4,
   "id": "64e68b7a-f318-4e13-b19a-7af05e49fd79",
   "metadata": {},
   "outputs": [
    {
     "data": {
      "text/plain": [
       "[]"
      ]
     },
     "execution_count": 4,
     "metadata": {},
     "output_type": "execute_result"
    }
   ],
   "source": [
    "a = list()\n",
    "a"
   ]
  },
  {
   "cell_type": "code",
   "execution_count": 7,
   "id": "a722d521-31b1-46b7-96a3-8f134aead3f9",
   "metadata": {},
   "outputs": [
    {
     "data": {
      "text/plain": [
       "[1.0, 2.0, 3.0, 4.0, 5.0, 'uno', 'dos', '17-08-2023', True, None]"
      ]
     },
     "execution_count": 7,
     "metadata": {},
     "output_type": "execute_result"
    }
   ],
   "source": [
    "[1.0,2.0,3.0,4.0,5.0, \"uno\", \"dos\", \"17-08-2023\", True, None]"
   ]
  },
  {
   "cell_type": "code",
   "execution_count": 14,
   "id": "8f55854d-a69e-4759-8ee8-9e1cb5167fcc",
   "metadata": {},
   "outputs": [
    {
     "name": "stdout",
     "output_type": "stream",
     "text": [
      "[1, 2, 3, 4, 5, 6, 7, 8, 9, 10, 11, 12, 13, 14, 15, 16, 17, 18, 19, 20, 21, 22, 23, 24, 25, 26, 27, 28, 29, 30, 31, 32, 33, 34, 35, 36, 37, 38, 39, 40, 41, 42, 43, 44, 45, 46, 47, 48, 49, 50, 51, 52, 53, 54, 55, 56, 57, 58, 59, 60, 61, 62, 63, 64, 65, 66, 67, 68, 69, 70, 71, 72, 73, 74, 75, 76, 77, 78, 79, 80, 81, 82, 83, 84, 85, 86, 87, 88, 89, 90, 91, 92, 93, 94, 95, 96, 97, 98, 99, 100]\n"
     ]
    }
   ],
   "source": [
    "r_1_100 = range(1, 101)  # generadores\n",
    "print( list( r_1_100 ) )"
   ]
  },
  {
   "cell_type": "code",
   "execution_count": 16,
   "id": "2fe2d434-fbb9-48b3-9bb4-97f3596b506c",
   "metadata": {},
   "outputs": [
    {
     "name": "stdout",
     "output_type": "stream",
     "text": [
      "1\n",
      "2\n",
      "3\n",
      "4\n",
      "5\n"
     ]
    }
   ],
   "source": [
    "for elemento in [1,2,3,4,5]:\n",
    "    print( elemento )  # \\n"
   ]
  },
  {
   "cell_type": "code",
   "execution_count": 20,
   "id": "cfb7f636-cc23-4a72-ba58-71cc1ab0d8fd",
   "metadata": {},
   "outputs": [
    {
     "name": "stdout",
     "output_type": "stream",
     "text": [
      "1 2 3 4 5 6 7 8 9 10 11 12 13 14 15 16 17 18 19 20 21 22 23 24 25 26 27 28 29 30 31 32 33 34 35 36 37 38 39 40 41 42 43 44 45 46 47 48 49 50 51 52 53 54 55 56 57 58 59 60 61 62 63 64 65 66 67 68 69 70 71 72 73 74 75 76 77 78 79 80 81 82 83 84 85 86 87 88 89 90 91 92 93 94 95 96 97 98 99 100 "
     ]
    }
   ],
   "source": [
    "for el in range(1, 101):\n",
    "    print(el, end=\" \")"
   ]
  },
  {
   "cell_type": "code",
   "execution_count": 24,
   "id": "f1b1e469-f557-48b2-8fad-9b0a386600a5",
   "metadata": {},
   "outputs": [
    {
     "name": "stdout",
     "output_type": "stream",
     "text": [
      "[1, 4, 9, 16, 25, 36, 49, 64, 81, 100, 121, 144, 169, 196, 225, 256, 289, 324, 361, 400, 441, 484, 529, 576, 625, 676, 729, 784, 841, 900, 961, 1024, 1089, 1156, 1225, 1296, 1369, 1444, 1521, 1600, 1681, 1764, 1849, 1936, 2025, 2116, 2209, 2304, 2401, 2500, 2601, 2704, 2809, 2916, 3025, 3136, 3249, 3364, 3481, 3600, 3721, 3844, 3969, 4096, 4225, 4356, 4489, 4624, 4761, 4900, 5041, 5184, 5329, 5476, 5625, 5776, 5929, 6084, 6241, 6400, 6561, 6724, 6889, 7056, 7225, 7396, 7569, 7744, 7921, 8100, 8281, 8464, 8649, 8836, 9025, 9216, 9409, 9604, 9801, 10000, 10201, 10404, 10609, 10816, 11025, 11236, 11449, 11664, 11881, 12100, 12321, 12544, 12769, 12996, 13225, 13456, 13689, 13924, 14161, 14400, 14641, 14884, 15129, 15376, 15625, 15876, 16129, 16384, 16641, 16900, 17161, 17424, 17689, 17956, 18225, 18496, 18769, 19044, 19321, 19600, 19881, 20164, 20449, 20736, 21025, 21316, 21609, 21904, 22201, 22500, 22801, 23104, 23409, 23716, 24025, 24336, 24649, 24964, 25281, 25600, 25921, 26244, 26569, 26896, 27225, 27556, 27889, 28224, 28561, 28900, 29241, 29584, 29929, 30276, 30625, 30976, 31329, 31684, 32041, 32400, 32761, 33124, 33489, 33856, 34225, 34596, 34969, 35344, 35721, 36100, 36481, 36864, 37249, 37636, 38025, 38416, 38809, 39204, 39601, 40000, 40401, 40804, 41209, 41616, 42025, 42436, 42849, 43264, 43681, 44100, 44521, 44944, 45369, 45796, 46225, 46656, 47089, 47524, 47961, 48400, 48841, 49284, 49729, 50176, 50625, 51076, 51529, 51984, 52441, 52900, 53361, 53824, 54289, 54756, 55225, 55696, 56169, 56644, 57121, 57600, 58081, 58564, 59049, 59536, 60025, 60516, 61009, 61504, 62001, 62500, 63001, 63504, 64009, 64516, 65025, 65536, 66049, 66564, 67081, 67600, 68121, 68644, 69169, 69696, 70225, 70756, 71289, 71824, 72361, 72900, 73441, 73984, 74529, 75076, 75625, 76176, 76729, 77284, 77841, 78400, 78961, 79524, 80089, 80656, 81225, 81796, 82369, 82944, 83521, 84100, 84681, 85264, 85849, 86436, 87025, 87616, 88209, 88804, 89401, 90000, 90601, 91204, 91809, 92416, 93025, 93636, 94249, 94864, 95481, 96100, 96721, 97344, 97969, 98596, 99225, 99856, 100489, 101124, 101761, 102400, 103041, 103684, 104329, 104976, 105625, 106276, 106929, 107584, 108241, 108900, 109561, 110224, 110889, 111556, 112225, 112896, 113569, 114244, 114921, 115600, 116281, 116964, 117649, 118336, 119025, 119716, 120409, 121104, 121801, 122500, 123201, 123904, 124609, 125316, 126025, 126736, 127449, 128164, 128881, 129600, 130321, 131044, 131769, 132496, 133225, 133956, 134689, 135424, 136161, 136900, 137641, 138384, 139129, 139876, 140625, 141376, 142129, 142884, 143641, 144400, 145161, 145924, 146689, 147456, 148225, 148996, 149769, 150544, 151321, 152100, 152881, 153664, 154449, 155236, 156025, 156816, 157609, 158404, 159201, 160000, 160801, 161604, 162409, 163216, 164025, 164836, 165649, 166464, 167281, 168100, 168921, 169744, 170569, 171396, 172225, 173056, 173889, 174724, 175561, 176400, 177241, 178084, 178929, 179776, 180625, 181476, 182329, 183184, 184041, 184900, 185761, 186624, 187489, 188356, 189225, 190096, 190969, 191844, 192721, 193600, 194481, 195364, 196249, 197136, 198025, 198916, 199809, 200704, 201601, 202500, 203401, 204304, 205209, 206116, 207025, 207936, 208849, 209764, 210681, 211600, 212521, 213444, 214369, 215296, 216225, 217156, 218089, 219024, 219961, 220900, 221841, 222784, 223729, 224676, 225625, 226576, 227529, 228484, 229441, 230400, 231361, 232324, 233289, 234256, 235225, 236196, 237169, 238144, 239121, 240100, 241081, 242064, 243049, 244036, 245025, 246016, 247009, 248004, 249001, 250000]\n"
     ]
    }
   ],
   "source": [
    "numeros = []               # iniciando la lista vacía\n",
    "for n in range(1, 501):    # generar la lista de números\n",
    "    m = n ** 2\n",
    "    numeros.append( m )    # agregar el número a la lista\n",
    "print( numeros )           # imprimir la lista completa"
   ]
  },
  {
   "cell_type": "markdown",
   "id": "68f649ea-6844-4d11-a8ab-0fa17da68111",
   "metadata": {},
   "source": [
    "### Comprendiendo algunos operadores de listas (list)"
   ]
  },
  {
   "cell_type": "markdown",
   "id": "889745cc-97d8-41c1-8e55-7ad099d63bde",
   "metadata": {},
   "source": [
    "| Operador   | Operación            | Ejemplo             |\n",
    "|------------|----------------------|---------------------|\n",
    "| +          | Concatena o une dos listas | [1,2,3] + [3,4,5] -> [1,2,3,3,4,5] |\n",
    "| *          | Crea n copias de la lista  | [1,2,3] * 3 -> [1,2,3,1,2,3,1,2,3] |\n",
    "\n",
    "Realicemos algunas operaciones:"
   ]
  },
  {
   "cell_type": "code",
   "execution_count": 28,
   "id": "79a1e2fe-53c5-4aeb-a63f-2ec2c0436e0a",
   "metadata": {},
   "outputs": [
    {
     "data": {
      "text/plain": [
       "[1, 1, 1, 1, 1, 1, 1, 1, 1, 1]"
      ]
     },
     "execution_count": 28,
     "metadata": {},
     "output_type": "execute_result"
    }
   ],
   "source": [
    "[1,2,3] + [3,4,5]\n",
    "[3,4,5] + [1,2,3]\n",
    "[1,2,3] * 3\n",
    "[1] * 10"
   ]
  },
  {
   "cell_type": "markdown",
   "id": "07f4f7ac-c534-4186-a0f6-69dcf8cb4570",
   "metadata": {},
   "source": [
    "### Comprendiendo algunas funciones de listas (str)"
   ]
  },
  {
   "cell_type": "markdown",
   "id": "fd82410f-f555-44f6-9713-3af5ceebd258",
   "metadata": {},
   "source": [
    "| Función        | Descripción            | Ejemplo             |\n",
    "|----------------|----------------------|---------------------|\n",
    "| append()       | Agrega un elemento al final de la lista | [1,2,3].append(4) |\n",
    "| pop()          | Elimina y regresa el último elemento de la lista | [1,2,3,4].pop() |\n",
    "| remove(val)    | Elimina la primera aprición de val en la lista o regresa error si no existe | [1,2,3,4,2].remove(2) |\n",
    "| sort()         | Ordena los elementos de una lista | [3,5,1,4,2].sort() |\n",
    "| str.join(list) | Une o concatena los elementos de una lista | \"+\".join([\"uno\",\"dos\",\"tres\"]) |\n",
    "\n",
    "Realicemos algunas operaciones:"
   ]
  },
  {
   "cell_type": "code",
   "execution_count": 34,
   "id": "eb264938-9ca6-425c-a910-7a0ae5a21cb0",
   "metadata": {},
   "outputs": [
    {
     "data": {
      "text/plain": [
       "[1, 2, 3]"
      ]
     },
     "execution_count": 34,
     "metadata": {},
     "output_type": "execute_result"
    }
   ],
   "source": [
    "a = [1,2,3]\n",
    "a.append(4.5)\n",
    "a.pop()\n",
    "a"
   ]
  },
  {
   "cell_type": "code",
   "execution_count": 39,
   "id": "f8504d82-cf01-4357-b3ab-de08f5c6cdff",
   "metadata": {},
   "outputs": [
    {
     "data": {
      "text/plain": [
       "'uno | dos | tres'"
      ]
     },
     "execution_count": 39,
     "metadata": {},
     "output_type": "execute_result"
    }
   ],
   "source": [
    "b = [\"uno\", \"dos\", \"tres\"]\n",
    "c = \" | \"\n",
    "c.join(b)  # \"uno\" + \"dos\" + \"tres\""
   ]
  },
  {
   "cell_type": "code",
   "execution_count": 40,
   "id": "5648accf-bd40-42f5-9558-89e42714fc83",
   "metadata": {},
   "outputs": [
    {
     "data": {
      "text/plain": [
       "\u001b[0;31mSignature:\u001b[0m \u001b[0mlist\u001b[0m\u001b[0;34m.\u001b[0m\u001b[0msort\u001b[0m\u001b[0;34m(\u001b[0m\u001b[0mself\u001b[0m\u001b[0;34m,\u001b[0m \u001b[0;34m/\u001b[0m\u001b[0;34m,\u001b[0m \u001b[0;34m*\u001b[0m\u001b[0;34m,\u001b[0m \u001b[0mkey\u001b[0m\u001b[0;34m=\u001b[0m\u001b[0;32mNone\u001b[0m\u001b[0;34m,\u001b[0m \u001b[0mreverse\u001b[0m\u001b[0;34m=\u001b[0m\u001b[0;32mFalse\u001b[0m\u001b[0;34m)\u001b[0m\u001b[0;34m\u001b[0m\u001b[0;34m\u001b[0m\u001b[0m\n",
       "\u001b[0;31mDocstring:\u001b[0m\n",
       "Sort the list in ascending order and return None.\n",
       "\n",
       "The sort is in-place (i.e. the list itself is modified) and stable (i.e. the\n",
       "order of two equal elements is maintained).\n",
       "\n",
       "If a key function is given, apply it once to each list item and sort them,\n",
       "ascending or descending, according to their function values.\n",
       "\n",
       "The reverse flag can be set to sort in descending order.\n",
       "\u001b[0;31mType:\u001b[0m      method_descriptor"
      ]
     },
     "metadata": {},
     "output_type": "display_data"
    }
   ],
   "source": [
    "list.sort?"
   ]
  },
  {
   "cell_type": "markdown",
   "id": "8bd76bf1-ab92-4834-ad99-06d6cace09ab",
   "metadata": {},
   "source": [
    "### Accediendo y modificando los elementos de una lista"
   ]
  },
  {
   "cell_type": "markdown",
   "id": "a2fe9fea-b21e-4569-9b02-7c3398613436",
   "metadata": {},
   "source": [
    "| Función        | Descripción            | Ejemplo             |\n",
    "|----------------|----------------------|---------------------|\n",
    "| lista[n]       | Regresa el elemento n de la lista. El primer elemento siempre inicia en la posición 0 | nombres[0] |\n",
    "| lista[n:m]     | Obtiene los elementos de la posición n a la m-1 de la lista | [1,2,3,4][1:3] |\n",
    "| lista[n:]      | Obtiene los elementos de la posición n al final de la lista | [1,2,3,4,2][2:] |\n",
    "| lista[:m]      | Obtiene los elementos desde el inicio hasta la posición m-1 de la lista | [1,2,3,4,2][:3] |\n",
    "| lista[n] = val | Remplaza el valor en la posición n por val | nombres[3] = \"Benito\" |\n",
    "\n",
    "Realicemos algunas operaciones:"
   ]
  },
  {
   "cell_type": "code",
   "execution_count": 45,
   "id": "d5f1b993-f53f-4aae-b009-5d0a0276a18d",
   "metadata": {},
   "outputs": [
    {
     "ename": "IndexError",
     "evalue": "list index out of range",
     "output_type": "error",
     "traceback": [
      "\u001b[0;31m---------------------------------------------------------------------------\u001b[0m",
      "\u001b[0;31mIndexError\u001b[0m                                Traceback (most recent call last)",
      "Cell \u001b[0;32mIn[45], line 1\u001b[0m\n\u001b[0;32m----> 1\u001b[0m \u001b[43mb\u001b[49m\u001b[43m[\u001b[49m\u001b[38;5;241;43m3\u001b[39;49m\u001b[43m]\u001b[49m\n",
      "\u001b[0;31mIndexError\u001b[0m: list index out of range"
     ]
    }
   ],
   "source": [
    "b[3]"
   ]
  },
  {
   "cell_type": "code",
   "execution_count": 51,
   "id": "584f3ca3-78d4-4c4e-8776-b9b56bdeef4b",
   "metadata": {},
   "outputs": [
    {
     "data": {
      "text/plain": [
       "'tres'"
      ]
     },
     "execution_count": 51,
     "metadata": {},
     "output_type": "execute_result"
    }
   ],
   "source": [
    "l = len(b)\n",
    "b[l-1]"
   ]
  },
  {
   "cell_type": "code",
   "execution_count": 52,
   "id": "a2d2414c-4299-4938-8ac8-30c317c20760",
   "metadata": {},
   "outputs": [
    {
     "data": {
      "text/plain": [
       "'tres'"
      ]
     },
     "execution_count": 52,
     "metadata": {},
     "output_type": "execute_result"
    }
   ],
   "source": [
    "b[ len(b) - 1 ]"
   ]
  },
  {
   "cell_type": "code",
   "execution_count": 53,
   "id": "b8319ee4-235b-49dc-8abe-42ef3124b0e9",
   "metadata": {},
   "outputs": [
    {
     "data": {
      "text/plain": [
       "'tres'"
      ]
     },
     "execution_count": 53,
     "metadata": {},
     "output_type": "execute_result"
    }
   ],
   "source": [
    "b[len(b) - 1]"
   ]
  },
  {
   "cell_type": "markdown",
   "id": "3e1be8d9-38cb-4ae4-bdeb-5c66b612b009",
   "metadata": {},
   "source": [
    "Forma Pythonesca de llegar al último elemento `-1`:"
   ]
  },
  {
   "cell_type": "code",
   "execution_count": 56,
   "id": "5a90677c-00e1-41eb-baf6-34cfa5bb6c90",
   "metadata": {},
   "outputs": [
    {
     "data": {
      "text/plain": [
       "'uno'"
      ]
     },
     "execution_count": 56,
     "metadata": {},
     "output_type": "execute_result"
    }
   ],
   "source": [
    "b[ -3 ]"
   ]
  },
  {
   "cell_type": "code",
   "execution_count": 63,
   "id": "a79540be-24ff-46b4-868b-a95583cec71b",
   "metadata": {},
   "outputs": [
    {
     "data": {
      "text/plain": [
       "[1, 4, 9, 16, 25]"
      ]
     },
     "execution_count": 63,
     "metadata": {},
     "output_type": "execute_result"
    }
   ],
   "source": [
    "# print(numeros)\n",
    "numeros[ 0:5 ]"
   ]
  },
  {
   "cell_type": "code",
   "execution_count": 64,
   "id": "6236ee11-7018-4acc-82ab-e2ef5bfc5c7d",
   "metadata": {},
   "outputs": [
    {
     "data": {
      "text/plain": [
       "[1, 4, 9, 16, 25]"
      ]
     },
     "execution_count": 64,
     "metadata": {},
     "output_type": "execute_result"
    }
   ],
   "source": [
    "numeros[ :5 ]"
   ]
  },
  {
   "cell_type": "code",
   "execution_count": 65,
   "id": "d9f3622e-80dc-465d-b0b3-4559a96047e0",
   "metadata": {},
   "outputs": [
    {
     "data": {
      "text/plain": [
       "[246016, 247009, 248004, 249001, 250000]"
      ]
     },
     "execution_count": 65,
     "metadata": {},
     "output_type": "execute_result"
    }
   ],
   "source": [
    "numeros[ -5: ]"
   ]
  },
  {
   "cell_type": "code",
   "execution_count": 67,
   "id": "6a458153-e121-419a-a83b-a50d5edea6d9",
   "metadata": {},
   "outputs": [
    {
     "name": "stdout",
     "output_type": "stream",
     "text": [
      "[10201, 10404, 10609, 10816, 11025, 11236, 11449, 11664, 11881, 12100, 12321, 12544, 12769, 12996, 13225, 13456, 13689, 13924, 14161, 14400, 14641, 14884, 15129, 15376, 15625, 15876, 16129, 16384, 16641, 16900, 17161, 17424, 17689, 17956, 18225, 18496, 18769, 19044, 19321, 19600, 19881, 20164, 20449, 20736, 21025, 21316, 21609, 21904, 22201, 22500, 22801, 23104, 23409, 23716, 24025, 24336, 24649, 24964, 25281, 25600, 25921, 26244, 26569, 26896, 27225, 27556, 27889, 28224, 28561, 28900, 29241, 29584, 29929, 30276, 30625, 30976, 31329, 31684, 32041, 32400, 32761, 33124, 33489, 33856, 34225, 34596, 34969, 35344, 35721, 36100, 36481, 36864, 37249, 37636, 38025, 38416, 38809, 39204, 39601, 40000]\n"
     ]
    }
   ],
   "source": [
    "print( numeros[100:200] )"
   ]
  },
  {
   "cell_type": "code",
   "execution_count": 69,
   "id": "97151949-a8ec-4f6f-bb04-ab4d659ef3a0",
   "metadata": {},
   "outputs": [
    {
     "data": {
      "text/plain": [
       "[0, 'dos', 'tres']"
      ]
     },
     "execution_count": 69,
     "metadata": {},
     "output_type": "execute_result"
    }
   ],
   "source": [
    "b[0] = 0\n",
    "b"
   ]
  },
  {
   "cell_type": "code",
   "execution_count": 70,
   "id": "451f0a0e-b38c-42a0-b29a-bfcda9db6f62",
   "metadata": {},
   "outputs": [
    {
     "name": "stdout",
     "output_type": "stream",
     "text": [
      "[10201, 10609, 11025, 11449, 11881, 12321, 12769, 13225, 13689, 14161, 14641, 15129, 15625, 16129, 16641, 17161, 17689, 18225, 18769, 19321, 19881, 20449, 21025, 21609, 22201, 22801, 23409, 24025, 24649, 25281, 25921, 26569, 27225, 27889, 28561, 29241, 29929, 30625, 31329, 32041, 32761, 33489, 34225, 34969, 35721, 36481, 37249, 38025, 38809, 39601]\n"
     ]
    }
   ],
   "source": [
    "print( numeros[100:200:2] )"
   ]
  },
  {
   "cell_type": "markdown",
   "id": "dc509a15-7c96-4498-bc5f-edf6dcc85dea",
   "metadata": {},
   "source": [
    "## Comprendiendo operaciones y funciones de diccionarios o mapas (dict)\n",
    "---"
   ]
  },
  {
   "cell_type": "markdown",
   "id": "7630fde9-065d-4971-9ebd-886f87ddf215",
   "metadata": {},
   "source": [
    "### Creando, accediendo y modificando los elementos de un diccionario"
   ]
  },
  {
   "cell_type": "markdown",
   "id": "7dc681a8-af33-4627-84eb-cb71c719a228",
   "metadata": {},
   "source": [
    "| Función        | Descripción            | Ejemplo             |\n",
    "|----------------|----------------------|---------------------|\n",
    "| {}, dict()     | Creea un diccionario vacío | {} |\n",
    "| {key: val, ...}| Un diccionario se crea usando parejas de llave:valor | {1:\"uno\", 2:\"dos\", 3:3.5} |\n",
    "| dict.items()   | Obtiene los elementos de un diccionario por parejas | {1:\"uno\", 2:\"dos\", 3:3.5}.items() |\n",
    "| dict[key]      | Obtiene el valor de la llave indicada por key | {1:\"uno\", 2:\"dos\", 3:3.5}[2] |\n",
    "| dict[key] = val| Remplaza el valor en la llave key por val, si la llave no existe se crea | nombres[3] = \"Benito\" |\n",
    "\n",
    "Realicemos algunas operaciones:"
   ]
  },
  {
   "cell_type": "code",
   "execution_count": 73,
   "id": "ca4d4f49-a98a-4fbf-b060-8e16d0f0cad9",
   "metadata": {},
   "outputs": [
    {
     "data": {
      "text/plain": [
       "({}, {})"
      ]
     },
     "execution_count": 73,
     "metadata": {},
     "output_type": "execute_result"
    }
   ],
   "source": [
    "{}, dict()  # <- (v, v, v) <- tuple"
   ]
  },
  {
   "cell_type": "code",
   "execution_count": 75,
   "id": "8b88676a-3eb3-471f-9bf4-74abea415b5c",
   "metadata": {},
   "outputs": [
    {
     "data": {
      "text/plain": [
       "{0: 'uno', 1: 1, 2: 2.5, 4: [1, 2, 3], 7.5: 0, 'nombre': None, '001': 'Laptop'}"
      ]
     },
     "execution_count": 75,
     "metadata": {},
     "output_type": "execute_result"
    }
   ],
   "source": [
    "d = {0: \"uno\", 1: 1, 2: 2.5, 4: [1,2,3], 7.5: 0, \"nombre\": None, \"001\": \"Laptop\"}\n",
    "d"
   ]
  },
  {
   "cell_type": "code",
   "execution_count": 77,
   "id": "cd8af0c5-d81d-4bea-b5b8-fe5025e1aa74",
   "metadata": {},
   "outputs": [
    {
     "data": {
      "text/plain": [
       "{0: 'uno',\n",
       " 1: 1,\n",
       " 2: 2.5,\n",
       " 4: [1, 2, 3],\n",
       " 7.5: 0,\n",
       " 'nombre': None,\n",
       " '001': 'Laptop',\n",
       " '002': 'Teclado'}"
      ]
     },
     "execution_count": 77,
     "metadata": {},
     "output_type": "execute_result"
    }
   ],
   "source": [
    "d[\"002\"] = \"Teclado\"\n",
    "d"
   ]
  },
  {
   "cell_type": "code",
   "execution_count": 78,
   "id": "ede1d457-399f-445e-910f-a886127c7edd",
   "metadata": {},
   "outputs": [
    {
     "data": {
      "text/plain": [
       "{0: 'dos',\n",
       " 1: 1,\n",
       " 2: 2.5,\n",
       " 4: [1, 2, 3],\n",
       " 7.5: 0,\n",
       " 'nombre': None,\n",
       " '001': 'Laptop',\n",
       " '002': 'Teclado'}"
      ]
     },
     "execution_count": 78,
     "metadata": {},
     "output_type": "execute_result"
    }
   ],
   "source": [
    "d[0] = \"dos\"\n",
    "d"
   ]
  },
  {
   "cell_type": "code",
   "execution_count": 79,
   "id": "4186f980-79ec-446e-9dcc-4f6acb221e65",
   "metadata": {},
   "outputs": [
    {
     "data": {
      "text/plain": [
       "{0: 'dos',\n",
       " 2: 2.5,\n",
       " 4: [1, 2, 3],\n",
       " 7.5: 0,\n",
       " 'nombre': None,\n",
       " '001': 'Laptop',\n",
       " '002': 'Teclado'}"
      ]
     },
     "execution_count": 79,
     "metadata": {},
     "output_type": "execute_result"
    }
   ],
   "source": [
    "del( d[1] )\n",
    "d"
   ]
  },
  {
   "cell_type": "code",
   "execution_count": 80,
   "id": "60607f55-2207-4131-92d5-ab81d6081a59",
   "metadata": {},
   "outputs": [
    {
     "data": {
      "text/plain": [
       "dict_keys([0, 2, 4, 7.5, 'nombre', '001', '002'])"
      ]
     },
     "execution_count": 80,
     "metadata": {},
     "output_type": "execute_result"
    }
   ],
   "source": [
    "d.keys()"
   ]
  },
  {
   "cell_type": "code",
   "execution_count": 81,
   "id": "1bcdf044-4ed7-45b7-93ca-66424511d5ad",
   "metadata": {},
   "outputs": [
    {
     "data": {
      "text/plain": [
       "dict_values(['dos', 2.5, [1, 2, 3], 0, None, 'Laptop', 'Teclado'])"
      ]
     },
     "execution_count": 81,
     "metadata": {},
     "output_type": "execute_result"
    }
   ],
   "source": [
    "d.values()"
   ]
  },
  {
   "cell_type": "code",
   "execution_count": 82,
   "id": "a637f00f-5242-4546-a470-83bdfff1224b",
   "metadata": {},
   "outputs": [
    {
     "data": {
      "text/plain": [
       "dict_items([(0, 'dos'), (2, 2.5), (4, [1, 2, 3]), (7.5, 0), ('nombre', None), ('001', 'Laptop'), ('002', 'Teclado')])"
      ]
     },
     "execution_count": 82,
     "metadata": {},
     "output_type": "execute_result"
    }
   ],
   "source": [
    "d.items()"
   ]
  },
  {
   "cell_type": "markdown",
   "id": "f517acb1-8c5f-4562-b8c1-918c85b0a76a",
   "metadata": {},
   "source": [
    "## Elegir la estructura de datos correcta\n",
    "---"
   ]
  },
  {
   "cell_type": "markdown",
   "id": "901e13bc-7dd6-4e2c-874e-827bea48b3d0",
   "metadata": {},
   "source": [
    "Después de revisar los tipos interconstruidos de Python sobre todo los estructurados, podemos elegir entre listas, tuplas, conjuntos o diccionarios, aunque los más usados son las listas o los diccionarios a veces dependiendo del tipo de dato, las operaciones a realizar o incluso el éstilo de programas será preferible usar unas respecto a otras, sin embargo las **Listas** son la estructura de dato por excelencia en Python."
   ]
  },
  {
   "cell_type": "markdown",
   "id": "79877b5a-b6ae-4dee-8bd9-e1a359e8f65b",
   "metadata": {},
   "source": [
    "## Listas de compresión\n",
    "---"
   ]
  },
  {
   "cell_type": "markdown",
   "id": "79855f58-d8ca-45d2-8785-aacca8625ff7",
   "metadata": {},
   "source": [
    "### Entendiendo la forma de una lista de compresión\n",
    "\n",
    "Las lista de compresión se utiliozan principalmente para transformar una colección de datos (no necesariamente una lista) dando como resultado una lista, la sintaxis o forma es la siguiente:\n",
    "\n",
    "`[ x for x in -collección- if -condicion- ]`"
   ]
  },
  {
   "cell_type": "markdown",
   "id": "f158113b-2451-48dd-b890-ed419a3d6c86",
   "metadata": {},
   "source": [
    "{ A x tales que x > 0 x e Reales } "
   ]
  },
  {
   "cell_type": "markdown",
   "id": "ae8dbf30-5291-48f7-a9a1-dd2c98cdc2b9",
   "metadata": {},
   "source": [
    "**Ejemplo:** Dada la siguiente lista obtén una lista con el cuadrado de cada valor"
   ]
  },
  {
   "cell_type": "code",
   "execution_count": 84,
   "id": "253d500c-3906-4eb0-9dc3-9a6c46030cf1",
   "metadata": {},
   "outputs": [
    {
     "name": "stdout",
     "output_type": "stream",
     "text": [
      "[1, 4, 9, 16, 25, 36, 49, 64, 81, 100]\n"
     ]
    },
    {
     "data": {
      "text/plain": [
       "[1, 4, 9, 16, 25, 36, 49, 64, 81, 100]"
      ]
     },
     "execution_count": 84,
     "metadata": {},
     "output_type": "execute_result"
    }
   ],
   "source": [
    "numeros = [1,2,3,4,5,6,7,8,9,10]\n",
    "\n",
    "numeros_2 = []\n",
    "for n in numeros:\n",
    "    numeros_2.append( n ** 2 )\n",
    "print( numeros_2 )\n",
    "\n",
    "[n ** 2 for n in numeros]"
   ]
  },
  {
   "cell_type": "markdown",
   "id": "96827084-c807-4437-93ac-3852b724b5e0",
   "metadata": {},
   "source": [
    "**Ejemplo:** Dada la siguiente lista obtén sólo los valores positivos"
   ]
  },
  {
   "cell_type": "code",
   "execution_count": 85,
   "id": "3a08d7ae-fb31-4456-a125-073326da8ab7",
   "metadata": {},
   "outputs": [
    {
     "data": {
      "text/plain": [
       "[1, 2, 3, 4, 5, 6, 7, 8, 9, 10]"
      ]
     },
     "execution_count": 85,
     "metadata": {},
     "output_type": "execute_result"
    }
   ],
   "source": [
    "numeros = [-4,-3,-2,-1,0,1,2,3,4,5,6,7,8,9,10]\n",
    "\n",
    "[n for n in numeros if n > 0]"
   ]
  },
  {
   "cell_type": "markdown",
   "id": "92d4a425-ef3f-420c-97c5-b46bc26d6f9d",
   "metadata": {},
   "source": [
    "**Ejemplo:** Dada la siguiente lista obtén una lista con lo valores no negativos"
   ]
  },
  {
   "cell_type": "code",
   "execution_count": 86,
   "id": "dded6672-80e1-4f00-82b1-8e1e25b35551",
   "metadata": {},
   "outputs": [
    {
     "data": {
      "text/plain": [
       "[0, 1, 2, 3, 4, 5, 6, 7, 8, 9, 10]"
      ]
     },
     "execution_count": 86,
     "metadata": {},
     "output_type": "execute_result"
    }
   ],
   "source": [
    "numeros = [-4,-3,-2,-1,0,1,2,3,4,5,6,7,8,9,10]\n",
    "\n",
    "[n for n in numeros if not n < 0]"
   ]
  },
  {
   "cell_type": "markdown",
   "id": "7b5fa5b8-91d1-4afa-9aeb-063a51f56248",
   "metadata": {},
   "source": [
    "**Ejemplo:** Dada la siguiente lista nombres, convierte los nombre en nombre propios usando la primera letra mayúscula y las demás minúsculas"
   ]
  },
  {
   "cell_type": "code",
   "execution_count": 90,
   "id": "40189cc6-1f3c-4879-ba0d-073433aaf918",
   "metadata": {},
   "outputs": [
    {
     "data": {
      "text/plain": [
       "['Benito', 'Ironman', 'Hulk', 'Viuda Negra', 'Capitana Marvel', 'Capi']"
      ]
     },
     "execution_count": 90,
     "metadata": {},
     "output_type": "execute_result"
    }
   ],
   "source": [
    "superheroes = [\"BENITO\", \"ironman\", \"hulK\", \"viuda Negra\", \"capitana MARVEL\", \"capi\"]\n",
    "[ nom.title() for nom in superheroes]"
   ]
  },
  {
   "cell_type": "markdown",
   "id": "61874a25-4740-4ba5-a283-33c60f43cd72",
   "metadata": {},
   "source": [
    "**Ejemplo:** Dada la siguiente lista nombres, convierte en nombre propios y además elimina blancos antes y después de cada nombre sin eliminar los blancos intermedios"
   ]
  },
  {
   "cell_type": "code",
   "execution_count": 92,
   "id": "53cbd9de-4c85-49a8-9daa-f51ba0b3d7e3",
   "metadata": {},
   "outputs": [
    {
     "data": {
      "text/plain": [
       "['Benito', 'Ironman', 'Hulk', 'Viuda Negra', 'Capitana Marvel', 'Capi']"
      ]
     },
     "execution_count": 92,
     "metadata": {},
     "output_type": "execute_result"
    }
   ],
   "source": [
    "numeros = [\"   BENITO\", \"ironman   \", \"  hulK   \", \"   viuda Negra\\n\", \"\\t capitana MARVEL  \", \"\\t capi\\n \"]\n",
    "[nom.title().strip() for nom in superheroes]"
   ]
  },
  {
   "cell_type": "code",
   "execution_count": 94,
   "id": "243da831-1e6d-4973-bb70-0b5f0bf6347b",
   "metadata": {
    "jp-MarkdownHeadingCollapsed": true
   },
   "outputs": [
    {
     "data": {
      "text/plain": [
       "['Benito', 'Ironman', 'Hulk', 'Viuda Negra', 'Capitana Marvel', 'Capi']"
      ]
     },
     "execution_count": 94,
     "metadata": {},
     "output_type": "execute_result"
    }
   ],
   "source": [
    "[nom.title() for nom in [nom.strip() for nom in superheroes]]"
   ]
  },
  {
   "cell_type": "markdown",
   "id": "f9c10974-7186-48d3-bab4-d2c4d42f4a83",
   "metadata": {},
   "source": [
    "## Contando con el módulo de colecciones (collections)\n",
    "---"
   ]
  },
  {
   "cell_type": "markdown",
   "id": "02ba01bf-ca6a-49b3-ab3d-6c2493bc4961",
   "metadata": {
    "jp-MarkdownHeadingCollapsed": true
   },
   "source": [
    "Éste es un módulo que crea un tipo especial de diccionarios llamados Counter y permite obtener la cuenta de los elementos iguales y además obtener la lista de los elementos únicos.\n",
    "\n",
    "La sintaxis es:\n",
    "\n",
    "`variable = Counter(-secuencia de valores-)`\n",
    "\n",
    "Veamos un ejemplo, dada la siguiente frase, encuentra la frecuencia de cada símbolo"
   ]
  },
  {
   "cell_type": "code",
   "execution_count": 2,
   "id": "7429884a-0110-41fa-acb9-23bf76b43462",
   "metadata": {},
   "outputs": [
    {
     "data": {
      "text/plain": [
       "7"
      ]
     },
     "execution_count": 2,
     "metadata": {},
     "output_type": "execute_result"
    }
   ],
   "source": [
    "from collections import Counter\n",
    "\n",
    "frase = \"Me siento feliz de tener a Python en mi vida\"\n",
    "letras = Counter(frase)\n",
    "letras['e']"
   ]
  },
  {
   "cell_type": "markdown",
   "id": "d6998f79-8548-48a3-8307-91081e137247",
   "metadata": {},
   "source": [
    "**Ejemplo:** Eliminar los valores duplicados de la siguiente lista de productos usando `Counter()`"
   ]
  },
  {
   "cell_type": "code",
   "execution_count": 13,
   "id": "53fa4bce-2bb3-4642-95d6-81320459b45d",
   "metadata": {},
   "outputs": [
    {
     "data": {
      "text/plain": [
       "dict_keys(['Leche', 'Huevos', 'Pan', 'Queso', 'Carne', 'Pescado', 'Verduras', 'Frutas', 'Cereal', 'Yogurt', 'Jugos', 'Agua', 'Bebidas alcohólicas', 'Bebidas gaseosas', 'Azúcar', 'Sal', 'Aceite', 'Pasta', 'Arroz', 'Frijoles', 'Papas'])"
      ]
     },
     "execution_count": 13,
     "metadata": {},
     "output_type": "execute_result"
    }
   ],
   "source": [
    "productos = [\"Leche\", \"Leche\", \"Leche\", \"Huevos\", \"Huevos\", \"Pan\", \"Pan\",\n",
    "             \"Queso\", \"Queso\", \"Carne\", \"Carne\", \"Pescado\", \"Pescado\",\n",
    "             \"Verduras\", \"Frutas\", \"Cereal\", \"Yogurt\", \"Jugos\", \"Agua\",\n",
    "             \"Bebidas alcohólicas\", \"Bebidas gaseosas\", \"Azúcar\", \"Sal\",\n",
    "             \"Aceite\", \"Pasta\", \"Arroz\", \"Frijoles\", \"Papas\"]\n",
    "\n",
    "repeticiones = Counter(productos)\n",
    "repeticiones.keys()"
   ]
  },
  {
   "cell_type": "markdown",
   "id": "3014cd7a-8b81-4098-ab97-334b66b9cc68",
   "metadata": {},
   "source": [
    "**Ejemplo:** Eliminar los valores duplicados de la siguiente lista de productos usando conjuntos (set)"
   ]
  },
  {
   "cell_type": "code",
   "execution_count": 7,
   "id": "8346b9ae-9a17-4490-bcee-a0853c7ca4e1",
   "metadata": {},
   "outputs": [
    {
     "name": "stdout",
     "output_type": "stream",
     "text": [
      "{'Huevos', 'Queso', 'Cereal', 'Pescado', 'Sal', 'Papas', 'Azúcar', 'Yogurt', 'Frijoles', 'Aceite', 'Arroz', 'Bebidas gaseosas', 'Carne', 'Verduras', 'Pan', 'Frutas', 'Jugos', 'Agua', 'Leche', 'Pasta', 'Bebidas alcohólicas'}\n"
     ]
    }
   ],
   "source": [
    "print( set( productos ) )"
   ]
  },
  {
   "cell_type": "code",
   "execution_count": 12,
   "id": "a617dbc8-bd79-4a18-95c9-07a374b39fad",
   "metadata": {},
   "outputs": [
    {
     "name": "stdout",
     "output_type": "stream",
     "text": [
      "['Aceite', 'Agua', 'Arroz', 'Azúcar', 'Bebidas alcohólicas', 'Bebidas gaseosas', 'Carne', 'Cereal', 'Frijoles', 'Frutas', 'Huevos', 'Jugos', 'Leche', 'Pan', 'Papas', 'Pasta', 'Pescado', 'Queso', 'Sal', 'Verduras', 'Yogurt']\n"
     ]
    }
   ],
   "source": [
    "no_repetidos = set( productos )\n",
    "no_reptidos_list = list( no_repetidos )\n",
    "print( sorted(no_reptidos_list) )"
   ]
  },
  {
   "cell_type": "markdown",
   "id": "65a8cb56-7f60-46d1-8169-4d0b28efdbdc",
   "metadata": {},
   "source": [
    "**Ejemplo:** Imprime una tabla con dos columnas, producto y número de repeticiones de menor a mayor.\n",
    "\n",
    "**Si eres expert@** imprime la lista sin hacer uso de un ciclo for sólo usando cadenas, listas, listas de compresión y print."
   ]
  },
  {
   "cell_type": "code",
   "execution_count": 28,
   "id": "aec38816-e280-4c6f-801c-1b6a0cc602e4",
   "metadata": {},
   "outputs": [
    {
     "data": {
      "text/plain": [
       "[('Verduras', 1),\n",
       " ('Frutas', 1),\n",
       " ('Cereal', 1),\n",
       " ('Yogurt', 1),\n",
       " ('Jugos', 1),\n",
       " ('Agua', 1),\n",
       " ('Bebidas alcohólicas', 1),\n",
       " ('Bebidas gaseosas', 1),\n",
       " ('Azúcar', 1),\n",
       " ('Sal', 1),\n",
       " ('Aceite', 1),\n",
       " ('Pasta', 1),\n",
       " ('Arroz', 1),\n",
       " ('Frijoles', 1),\n",
       " ('Papas', 1),\n",
       " ('Huevos', 2),\n",
       " ('Pan', 2),\n",
       " ('Queso', 2),\n",
       " ('Carne', 2),\n",
       " ('Pescado', 2),\n",
       " ('Leche', 3)]"
      ]
     },
     "execution_count": 28,
     "metadata": {},
     "output_type": "execute_result"
    }
   ],
   "source": [
    "def valor(t):  # (\"Aceite', 1)\n",
    "    return t[1]\n",
    "\n",
    "sorted(repeticiones.items(), key=valor)"
   ]
  },
  {
   "cell_type": "code",
   "execution_count": 27,
   "id": "5f52a13f-48d7-4b46-8d6d-1523a2498970",
   "metadata": {},
   "outputs": [
    {
     "data": {
      "text/plain": [
       "\u001b[0;31mSignature:\u001b[0m \u001b[0msorted\u001b[0m\u001b[0;34m(\u001b[0m\u001b[0miterable\u001b[0m\u001b[0;34m,\u001b[0m \u001b[0;34m/\u001b[0m\u001b[0;34m,\u001b[0m \u001b[0;34m*\u001b[0m\u001b[0;34m,\u001b[0m \u001b[0mkey\u001b[0m\u001b[0;34m=\u001b[0m\u001b[0;32mNone\u001b[0m\u001b[0;34m,\u001b[0m \u001b[0mreverse\u001b[0m\u001b[0;34m=\u001b[0m\u001b[0;32mFalse\u001b[0m\u001b[0;34m)\u001b[0m\u001b[0;34m\u001b[0m\u001b[0;34m\u001b[0m\u001b[0m\n",
       "\u001b[0;31mDocstring:\u001b[0m\n",
       "Return a new list containing all items from the iterable in ascending order.\n",
       "\n",
       "A custom key function can be supplied to customize the sort order, and the\n",
       "reverse flag can be set to request the result in descending order.\n",
       "\u001b[0;31mType:\u001b[0m      builtin_function_or_method"
      ]
     },
     "metadata": {},
     "output_type": "display_data"
    }
   ],
   "source": [
    "sorted?"
   ]
  },
  {
   "cell_type": "code",
   "execution_count": 29,
   "id": "07ebea3e-7ffe-4b41-8a3d-0aa4619ffd6b",
   "metadata": {},
   "outputs": [
    {
     "name": "stdout",
     "output_type": "stream",
     "text": [
      "Verduras             | 1\n",
      "Frutas               | 1\n",
      "Cereal               | 1\n",
      "Yogurt               | 1\n",
      "Jugos                | 1\n",
      "Agua                 | 1\n",
      "Bebidas alcohólicas  | 1\n",
      "Bebidas gaseosas     | 1\n",
      "Azúcar               | 1\n",
      "Sal                  | 1\n",
      "Aceite               | 1\n",
      "Pasta                | 1\n",
      "Arroz                | 1\n",
      "Frijoles             | 1\n",
      "Papas                | 1\n",
      "Huevos               | 2\n",
      "Pan                  | 2\n",
      "Queso                | 2\n",
      "Carne                | 2\n",
      "Pescado              | 2\n",
      "Leche                | 3\n"
     ]
    }
   ],
   "source": [
    "ancho = 20\n",
    "for item in sorted(repeticiones.items(), key=valor):\n",
    "    # linea = item[0] + \" | \" + str( item[1] )\n",
    "    linea = f\"{item[0]:{ancho}} | {item[1]}\"\n",
    "    print(linea)"
   ]
  },
  {
   "cell_type": "code",
   "execution_count": 43,
   "id": "cd982bda-f468-46a5-a34e-da0708b07460",
   "metadata": {
    "scrolled": true
   },
   "outputs": [
    {
     "name": "stdout",
     "output_type": "stream",
     "text": [
      "---------------Papas|\t1         \n",
      "------------Frijoles|\t1         \n",
      "---------------Arroz|\t1         \n",
      "---------------Pasta|\t1         \n",
      "--------------Aceite|\t1         \n",
      "-----------------Sal|\t1         \n",
      "--------------Azúcar|\t1         \n",
      "----Bebidas gaseosas|\t1         \n",
      "-Bebidas alcohólicas|\t1         \n",
      "----------------Agua|\t1         \n",
      "---------------Jugos|\t1         \n",
      "--------------Yogurt|\t1         \n",
      "--------------Cereal|\t1         \n",
      "--------------Frutas|\t1         \n",
      "------------Verduras|\t1         \n",
      "-------------Pescado|\t2         \n",
      "---------------Carne|\t2         \n",
      "---------------Queso|\t2         \n",
      "-----------------Pan|\t2         \n",
      "--------------Huevos|\t2         \n",
      "---------------Leche|\t3         \n"
     ]
    }
   ],
   "source": [
    "copia = list(repeticiones.items())\n",
    "while copia:\n",
    "    i=copia.pop()\n",
    "    print(f\"{i[0]:->20}|\\t{i[1]:<10}\")"
   ]
  },
  {
   "cell_type": "code",
   "execution_count": 37,
   "id": "cbfcca7a-aa78-4a4f-b729-bbe4d7684339",
   "metadata": {},
   "outputs": [
    {
     "data": {
      "text/plain": [
       "Counter({'Leche': 3,\n",
       "         'Huevos': 2,\n",
       "         'Pan': 2,\n",
       "         'Queso': 2,\n",
       "         'Carne': 2,\n",
       "         'Pescado': 2,\n",
       "         'Verduras': 1,\n",
       "         'Frutas': 1,\n",
       "         'Cereal': 1,\n",
       "         'Yogurt': 1,\n",
       "         'Jugos': 1,\n",
       "         'Agua': 1,\n",
       "         'Bebidas alcohólicas': 1,\n",
       "         'Bebidas gaseosas': 1,\n",
       "         'Azúcar': 1,\n",
       "         'Sal': 1,\n",
       "         'Aceite': 1,\n",
       "         'Pasta': 1,\n",
       "         'Arroz': 1,\n",
       "         'Frijoles': 1,\n",
       "         'Papas': 1})"
      ]
     },
     "execution_count": 37,
     "metadata": {},
     "output_type": "execute_result"
    }
   ],
   "source": [
    "repeticiones"
   ]
  },
  {
   "cell_type": "code",
   "execution_count": 33,
   "id": "876380f1-5fcb-4226-b45e-9727097af360",
   "metadata": {
    "scrolled": true
   },
   "outputs": [
    {
     "name": "stdout",
     "output_type": "stream",
     "text": [
      "---------------Leche|\t3         \n",
      "--------------Huevos|\t2         \n",
      "-----------------Pan|\t2         \n",
      "---------------Queso|\t2         \n",
      "---------------Carne|\t2         \n",
      "-------------Pescado|\t2         \n",
      "------------Verduras|\t1         \n",
      "--------------Frutas|\t1         \n",
      "--------------Cereal|\t1         \n",
      "--------------Yogurt|\t1         \n",
      "---------------Jugos|\t1         \n",
      "----------------Agua|\t1         \n",
      "-Bebidas alcohólicas|\t1         \n",
      "----Bebidas gaseosas|\t1         \n",
      "--------------Azúcar|\t1         \n",
      "-----------------Sal|\t1         \n",
      "--------------Aceite|\t1         \n",
      "---------------Pasta|\t1         \n",
      "---------------Arroz|\t1         \n",
      "------------Frijoles|\t1         \n",
      "---------------Papas|\t1         \n"
     ]
    }
   ],
   "source": [
    "copia = dict(reversed(list(repeticiones.items())))\n",
    "while copia:\n",
    "    i=copia.popitem()\n",
    "    print(f\"{i[0]:->20}|\\t{i[1]:<10}\")"
   ]
  },
  {
   "cell_type": "code",
   "execution_count": 50,
   "id": "8a6faa9f-c098-4d87-adb6-b2f94d295c9d",
   "metadata": {},
   "outputs": [
    {
     "name": "stdout",
     "output_type": "stream",
     "text": [
      "| Papas                | 1\n",
      "| Frijoles             | 1\n",
      "| Arroz                | 1\n",
      "| Pasta                | 1\n",
      "| Aceite               | 1\n",
      "| Sal                  | 1\n",
      "| Azúcar               | 1\n",
      "| Bebidas gaseosas     | 1\n",
      "| Bebidas alcohólicas  | 1\n",
      "| Agua                 | 1\n",
      "| Jugos                | 1\n",
      "| Yogurt               | 1\n",
      "| Cereal               | 1\n",
      "| Frutas               | 1\n",
      "| Verduras             | 1\n",
      "| Pescado              | 2\n",
      "| Carne                | 2\n",
      "| Queso                | 2\n",
      "| Pan                  | 2\n",
      "| Huevos               | 2\n",
      "| Leche                | 3\n"
     ]
    }
   ],
   "source": [
    "lcont = [f'| {x:20} | {y}' for x,y in reversed(repeticiones.items())]\n",
    "print(\"\\n\".join(lcont))"
   ]
  },
  {
   "cell_type": "markdown",
   "id": "958ee931-074e-4f9b-b7fa-67e7cc764c02",
   "metadata": {},
   "source": [
    "## Trabajando con archivos\n",
    "---"
   ]
  },
  {
   "cell_type": "markdown",
   "id": "39c24b34-2478-422a-9f09-53723786ef35",
   "metadata": {},
   "source": [
    "El manejo de archivo en Python se realiza mediante la instrucción `open()` y generalmente se puede usar un archivos en dos modos para lectura o para escritura, además dependiendo de la necesidad se puede usar una de las siguientes dos formas:\n",
    "\n",
    "Forma 1:\n",
    "```\n",
    "arch = open(-nombre de archivo-, -modo-, encoding=-codigo de caracteres del archivo-, newline=None)\n",
    "- se usa la variable arch para leer o escribir en el archivo\n",
    "close(arch)\n",
    "```\n",
    "\n",
    "Forma 2:\n",
    "```\n",
    "with open(-nombre de archivo-, ...) as arch:\n",
    "    - se usa la variable arch para leer o escribir en el archivo\n",
    "```\n",
    "\n",
    "**Ejemplo:** Escribe la lista de productos con repeticiones en el archivo `productos.txt` usando la forma 1"
   ]
  },
  {
   "cell_type": "code",
   "execution_count": 54,
   "id": "3d21cbff-fe9f-4265-9b51-fbc0f705e2e2",
   "metadata": {},
   "outputs": [],
   "source": [
    "with open(\"productos.txt\", \"wt\") as arch:\n",
    "    for prod in productos:\n",
    "        arch.write(prod+\"\\n\")"
   ]
  },
  {
   "cell_type": "markdown",
   "id": "f3f060e5-eaba-415c-b935-1b9fa97d1b32",
   "metadata": {},
   "source": [
    "**Ejemplo:** Lee los datos del archivo `productos.txt` e imprime eliminando uno a la cantidad de productos"
   ]
  },
  {
   "cell_type": "code",
   "execution_count": 56,
   "id": "441b640b-447f-49f6-8f1d-fd3337140be7",
   "metadata": {},
   "outputs": [
    {
     "data": {
      "text/plain": [
       "'Leche\\nLeche\\nLeche\\nHuevos\\nHuevos\\nPan\\nPan\\nQueso\\nQueso\\nCarne\\nCarne\\nPescado\\nPescado\\nVerduras\\nFrutas\\nCereal\\nYogurt\\nJugos\\nAgua\\nBebidas alcohólicas\\nBebidas gaseosas\\nAzúcar\\nSal\\nAceite\\nPasta\\nArroz\\nFrijoles\\nPapas\\n'"
      ]
     },
     "execution_count": 56,
     "metadata": {},
     "output_type": "execute_result"
    }
   ],
   "source": [
    "with open(\"productos.txt\", \"rt\") as arch:\n",
    "    texto = arch.read()\n",
    "texto"
   ]
  },
  {
   "cell_type": "code",
   "execution_count": 57,
   "id": "0631969e-2c90-46c3-a73b-9af7dcdd5d01",
   "metadata": {},
   "outputs": [
    {
     "data": {
      "text/plain": [
       "['Leche\\n',\n",
       " 'Leche\\n',\n",
       " 'Leche\\n',\n",
       " 'Huevos\\n',\n",
       " 'Huevos\\n',\n",
       " 'Pan\\n',\n",
       " 'Pan\\n',\n",
       " 'Queso\\n',\n",
       " 'Queso\\n',\n",
       " 'Carne\\n',\n",
       " 'Carne\\n',\n",
       " 'Pescado\\n',\n",
       " 'Pescado\\n',\n",
       " 'Verduras\\n',\n",
       " 'Frutas\\n',\n",
       " 'Cereal\\n',\n",
       " 'Yogurt\\n',\n",
       " 'Jugos\\n',\n",
       " 'Agua\\n',\n",
       " 'Bebidas alcohólicas\\n',\n",
       " 'Bebidas gaseosas\\n',\n",
       " 'Azúcar\\n',\n",
       " 'Sal\\n',\n",
       " 'Aceite\\n',\n",
       " 'Pasta\\n',\n",
       " 'Arroz\\n',\n",
       " 'Frijoles\\n',\n",
       " 'Papas\\n']"
      ]
     },
     "execution_count": 57,
     "metadata": {},
     "output_type": "execute_result"
    }
   ],
   "source": [
    "with open(\"productos.txt\", \"rt\") as arch:\n",
    "    lineas = arch.readlines()\n",
    "lineas"
   ]
  },
  {
   "cell_type": "code",
   "execution_count": 58,
   "id": "e49a39d4-36f4-426b-aec2-45b85f788677",
   "metadata": {},
   "outputs": [
    {
     "data": {
      "text/plain": [
       "['Leche\\n',\n",
       " 'Leche\\n',\n",
       " 'Leche\\n',\n",
       " 'Huevos\\n',\n",
       " 'Huevos\\n',\n",
       " 'Pan\\n',\n",
       " 'Pan\\n',\n",
       " 'Queso\\n',\n",
       " 'Queso\\n',\n",
       " 'Carne\\n',\n",
       " 'Carne\\n',\n",
       " 'Pescado\\n',\n",
       " 'Pescado\\n',\n",
       " 'Verduras\\n',\n",
       " 'Frutas\\n',\n",
       " 'Cereal\\n',\n",
       " 'Yogurt\\n',\n",
       " 'Jugos\\n',\n",
       " 'Agua\\n',\n",
       " 'Bebidas alcohólicas\\n',\n",
       " 'Bebidas gaseosas\\n',\n",
       " 'Azúcar\\n',\n",
       " 'Sal\\n',\n",
       " 'Aceite\\n',\n",
       " 'Pasta\\n',\n",
       " 'Arroz\\n',\n",
       " 'Frijoles\\n',\n",
       " 'Papas\\n']"
      ]
     },
     "execution_count": 58,
     "metadata": {},
     "output_type": "execute_result"
    }
   ],
   "source": [
    "with open(\"productos.txt\") as arch:\n",
    "    lineas = arch.readlines()\n",
    "lineas"
   ]
  },
  {
   "cell_type": "markdown",
   "id": "a99ccf25-d476-4760-99a3-fc61a46c859c",
   "metadata": {},
   "source": [
    "No logrante realizar el ejemplo de forma simple ¿cuál fué la causa?"
   ]
  },
  {
   "cell_type": "markdown",
   "id": "94f2fe2f-35e2-4727-961d-41d600d73a0c",
   "metadata": {
    "jp-MarkdownHeadingCollapsed": true
   },
   "source": []
  },
  {
   "cell_type": "markdown",
   "id": "277e4f85-03d2-4b30-ae62-9a7dde25c048",
   "metadata": {},
   "source": [
    "## Leyendo la web\n",
    "---"
   ]
  },
  {
   "cell_type": "markdown",
   "id": "83879147-670c-4d86-bca4-7d44c6219537",
   "metadata": {
    "jp-MarkdownHeadingCollapsed": true
   },
   "source": [
    "Según el WorldWideWebSize (https://www.worldwidewebsize.com) el índice de páginas web contiene al menos 5.59 billones de páginas, así que poder obtener datos de la web es alta mente probable y aunque Python cuenta con el módulo `urllib` en la librería estándar, hay un módulo externo llamado `requests` que realiza mucho mejor el trabajo.\n",
    "\n",
    "Así que primero hay que instalar el módulo `requests`:"
   ]
  },
  {
   "cell_type": "code",
   "execution_count": 59,
   "id": "774dadad-29a7-4502-8523-cb43ebd90562",
   "metadata": {},
   "outputs": [
    {
     "name": "stdout",
     "output_type": "stream",
     "text": [
      "Requirement already satisfied: requests in /home/rctorr/miniconda3/lib/python3.11/site-packages (2.29.0)\n",
      "Requirement already satisfied: charset-normalizer<4,>=2 in /home/rctorr/miniconda3/lib/python3.11/site-packages (from requests) (2.0.4)\n",
      "Requirement already satisfied: idna<4,>=2.5 in /home/rctorr/miniconda3/lib/python3.11/site-packages (from requests) (3.4)\n",
      "Requirement already satisfied: urllib3<1.27,>=1.21.1 in /home/rctorr/miniconda3/lib/python3.11/site-packages (from requests) (1.26.16)\n",
      "Requirement already satisfied: certifi>=2017.4.17 in /home/rctorr/miniconda3/lib/python3.11/site-packages (from requests) (2023.5.7)\n"
     ]
    }
   ],
   "source": [
    "!pip install requests"
   ]
  },
  {
   "cell_type": "markdown",
   "id": "5d3c4f2b-738c-41ae-950a-6b9166f8ebc8",
   "metadata": {},
   "source": [
    "**Ejemplo:** Vamos a descargar la página de la Wikipedia que contiene la lista de todos los nombres de los estádos de la república mexicana según el estándar ISO 3166-2.MX, en el siguiente link y guardaremos el resultado en el archivo `iso_3166-2.MX.html`\n",
    "\n",
    "- https://es.wikipedia.org/wiki/ISO_3166-2:MX"
   ]
  },
  {
   "cell_type": "code",
   "execution_count": 68,
   "id": "ab7dd358-90de-47d4-8e8d-27515995027b",
   "metadata": {
    "scrolled": true
   },
   "outputs": [],
   "source": [
    "import requests\n",
    "\n",
    "proxies = {\n",
    "   'http': 'http://proxy-dmz.intel.com:911',\n",
    "   'https': 'http://proxy-dmz.intel.com:912',\n",
    "}\n",
    "# pagina = requests.get(\"https://es.wikipedia.org/wiki/ISO_3166-2:MX\", proxies=proxies)\n",
    "\n",
    "pagina = requests.get(\"https://es.wikipedia.org/wiki/ISO_3166-2:MX\")\n",
    "if pagina.status_code == 200:\n",
    "    # print(pagina.text)    \n",
    "    with open(\"iso_3166-2.MX.html\", \"w\", enconding=\"utf-8\") as arch:\n",
    "        arch.write(pagina.text)\n",
    "        "
   ]
  },
  {
   "cell_type": "markdown",
   "id": "1a51e3d3-ced4-455b-b812-0cec87268ebc",
   "metadata": {
    "jp-MarkdownHeadingCollapsed": true
   },
   "source": []
  },
  {
   "cell_type": "markdown",
   "id": "bbd06bd1-2e25-4f73-9353-4c3241412801",
   "metadata": {},
   "source": [
    "## Coincidencia de patrones con expresiones regulares (re)\n",
    "---"
   ]
  },
  {
   "cell_type": "markdown",
   "id": "bad83151-7034-43a6-bf5f-47393d5f88a1",
   "metadata": {
    "jp-MarkdownHeadingCollapsed": true
   },
   "source": [
    "Las expresiones regulares son una herramienta poderosa para buscar, separar y remplazar cadenas de texto basado en patrones.\n",
    "\n",
    "Para crear los patrones existe un lenguaje de símbolos que se puede resumir en la siguiente tabla:\n",
    "\n",
    "| Caracter | Significado |\n",
    "|---|---|\n",
    "| ^ | Inicio de la línea |\n",
    "| $ | Fin de la línea |\n",
    "| . | Cualquier carácter (excepto el salto de línea) |\n",
    "| * | Cero o más repeticiones del carácter anterior |\n",
    "| + | Una o más repeticiones del carácter anterior |\n",
    "| ? | Cero o una repetición del carácter anterior |\n",
    "| [] | Un conjunto de caracteres |\n",
    "| \\| | Separador de caracteres en un conjunto |\n",
    "| () | Grupo de captura |\n",
    "| \\| | Separador de grupos de captura |\n",
    "| {n} | El carácter anterior exactamente n veces |\n",
    "| {m,n} | El carácter anterior entre m y n veces |\n",
    "| \\d | Un dígito numérico |\n",
    "| \\w | Un carácter alfanumérico |\n",
    "| \\s | Un espacio en blanco |\n",
    "| \\n | Un salto de línea |\n",
    "| \\r | Un retorno del carro |\n",
    "| \\t | Una tabulación |\n",
    "| \\xhh | Un carácter representado por la secuencia de hexadecimales hh |\n",
    "| \\uhhhh | Un carácter representado por la secuencia de hexadecimales hhhh |\n",
    "\n",
    "**TIP:** Es recomendable hacer uso de sitio como https://regex101.com para validar la expresión regular usada obtiene el resultado esperado"
   ]
  },
  {
   "cell_type": "markdown",
   "id": "19030cee-cbe9-427f-b4d7-ce909f8c8c5e",
   "metadata": {},
   "source": [
    "**Ejemplo:** Obtener la lista de los códigos ISO de los estados de la república mexicana a partir del archivo `iso_3166-2.MX.html`\n",
    "\n",
    "Puedes usar la función `re.findall(patron, cadena)`"
   ]
  },
  {
   "cell_type": "code",
   "execution_count": 4,
   "id": "2878b9ed-9e16-4f97-9fba-e12dd8699890",
   "metadata": {},
   "outputs": [
    {
     "data": {
      "text/plain": [
       "['MX-AGU',\n",
       " 'MX-BCN',\n",
       " 'MX-BCS',\n",
       " 'MX-CAM',\n",
       " 'MX-CHP',\n",
       " 'MX-CHH',\n",
       " 'MX-CMX',\n",
       " 'MX-COA',\n",
       " 'MX-COL',\n",
       " 'MX-DUR',\n",
       " 'MX-GUA',\n",
       " 'MX-GRO',\n",
       " 'MX-HID',\n",
       " 'MX-JAL',\n",
       " 'MX-MEX',\n",
       " 'MX-MIC',\n",
       " 'MX-MOR',\n",
       " 'MX-NAY',\n",
       " 'MX-NLE',\n",
       " 'MX-OAX',\n",
       " 'MX-PUE',\n",
       " 'MX-QUE',\n",
       " 'MX-ROO',\n",
       " 'MX-SLP',\n",
       " 'MX-SIN',\n",
       " 'MX-SON',\n",
       " 'MX-TAB',\n",
       " 'MX-TAM',\n",
       " 'MX-TLA',\n",
       " 'MX-VER',\n",
       " 'MX-YUC',\n",
       " 'MX-ZAC']"
      ]
     },
     "execution_count": 4,
     "metadata": {},
     "output_type": "execute_result"
    }
   ],
   "source": [
    "import re\n",
    "\n",
    "nom_arch = \"iso_3166-2.MX.html\"\n",
    "patron = \"MX-[A-Z]{3}\"\n",
    "cadena = \"\"\n",
    "with open(nom_arch, enconding=\"utf-8\") as arch:\n",
    "    cadena = arch.read()\n",
    "estados_iso = re.findall(patron, cadena)\n",
    "estados_iso"
   ]
  },
  {
   "cell_type": "markdown",
   "id": "9305d96c-06ba-473b-ad26-2721b2235f28",
   "metadata": {
    "jp-MarkdownHeadingCollapsed": true
   },
   "source": []
  },
  {
   "cell_type": "markdown",
   "id": "7cf69ef4-9cfb-45d8-8ee6-e341b53f732c",
   "metadata": {},
   "source": [
    "## Coincidencia en nombre de archivos (pathlib)\n",
    "---"
   ]
  },
  {
   "cell_type": "markdown",
   "id": "431b9b01-8627-4c38-a42e-b89a9e7fed81",
   "metadata": {
    "jp-MarkdownHeadingCollapsed": true
   },
   "source": [
    "Si lo que buscas es obtener una lista de archivos en base a cierto patrón podrías usar la función `pathlib.Path().glob()` con la sintaxis:\n",
    "\n",
    "`pathlib.Path(-ruta-).glob(-patron-)`\n",
    "\n",
    "Aunque la función anterior es un **generador** por lo que hay extraer los elementos uno a uno.\n",
    "\n",
    "**Ejemplo:** Obtener la lista de todos los archivos con extensión `html`."
   ]
  },
  {
   "cell_type": "code",
   "execution_count": 25,
   "id": "e4ba0c51-7c1c-4d3c-be7a-715f5a02319e",
   "metadata": {},
   "outputs": [
    {
     "data": {
      "text/plain": [
       "[PosixPath('Fundamentos-de-Python-para-Ciencia-de-Datos.ipynb'),\n",
       " PosixPath('iso_3166-2.MX.html'),\n",
       " PosixPath('productos.txt'),\n",
       " PosixPath('.ipynb_checkpoints'),\n",
       " PosixPath('productos-Copy1.txt')]"
      ]
     },
     "execution_count": 25,
     "metadata": {},
     "output_type": "execute_result"
    }
   ],
   "source": [
    "import pathlib\n",
    "\n",
    "ruta = pathlib.Path(\".\")\n",
    "arch_txt = list( ruta.glob(\"*\") )\n",
    "arch_txt"
   ]
  },
  {
   "cell_type": "code",
   "execution_count": 26,
   "id": "4de4c2e3-8d7d-441d-8be2-e408429e3925",
   "metadata": {},
   "outputs": [
    {
     "data": {
      "text/plain": [
       "['Fundamentos-de-Python-para-Ciencia-de-Datos.ipynb',\n",
       " 'iso_3166-2.MX.html',\n",
       " 'productos.txt',\n",
       " '.ipynb_checkpoints',\n",
       " 'productos-Copy1.txt']"
      ]
     },
     "execution_count": 26,
     "metadata": {},
     "output_type": "execute_result"
    }
   ],
   "source": [
    "import os\n",
    "\n",
    "archivos = os.listdir()\n",
    "archivos"
   ]
  },
  {
   "cell_type": "code",
   "execution_count": 10,
   "id": "139550f6-4965-4c25-8da8-94108891e227",
   "metadata": {},
   "outputs": [
    {
     "data": {
      "text/plain": [
       "'/home/rctorr/Ciencia-de-datos/Módulo-2'"
      ]
     },
     "execution_count": 10,
     "metadata": {},
     "output_type": "execute_result"
    }
   ],
   "source": [
    "os.getcwd()"
   ]
  },
  {
   "cell_type": "code",
   "execution_count": 14,
   "id": "969ddbf8-bef7-47e1-a985-48edbc2b0d51",
   "metadata": {},
   "outputs": [
    {
     "data": {
      "text/plain": [
       "1692921777.2041442"
      ]
     },
     "execution_count": 14,
     "metadata": {},
     "output_type": "execute_result"
    }
   ],
   "source": [
    "os.path.getmtime(archivos[0])"
   ]
  },
  {
   "cell_type": "code",
   "execution_count": 15,
   "id": "e3fa043d-2db5-413c-b4cc-19b1bfa07686",
   "metadata": {},
   "outputs": [
    {
     "data": {
      "text/plain": [
       "75564"
      ]
     },
     "execution_count": 15,
     "metadata": {},
     "output_type": "execute_result"
    }
   ],
   "source": [
    "os.path.getsize(archivos[0])"
   ]
  },
  {
   "cell_type": "code",
   "execution_count": null,
   "id": "3d3ee450-354c-421b-a004-48168f56610c",
   "metadata": {},
   "outputs": [],
   "source": [
    "os.path."
   ]
  }
 ],
 "metadata": {
  "kernelspec": {
   "display_name": "Python 3 (ipykernel)",
   "language": "python",
   "name": "python3"
  },
  "language_info": {
   "codemirror_mode": {
    "name": "ipython",
    "version": 3
   },
   "file_extension": ".py",
   "mimetype": "text/x-python",
   "name": "python",
   "nbconvert_exporter": "python",
   "pygments_lexer": "ipython3",
   "version": "3.11.4"
  }
 },
 "nbformat": 4,
 "nbformat_minor": 5
}
