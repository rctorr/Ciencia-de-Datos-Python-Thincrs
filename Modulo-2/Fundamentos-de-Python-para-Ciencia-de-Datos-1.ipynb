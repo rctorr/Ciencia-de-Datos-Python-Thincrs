{
 "cells": [
  {
   "cell_type": "markdown",
   "id": "8db36c63-5c75-4b09-932a-165629ef2bd0",
   "metadata": {},
   "source": [
    "**Módulo 2:** Fundamentos de Python para la Ciencia de Datos"
   ]
  },
  {
   "cell_type": "markdown",
   "id": "0518d5ef-1707-4606-9a42-218b8a76ad43",
   "metadata": {},
   "source": [
    "## La librería estándar de Python\n",
    "---"
   ]
  },
  {
   "cell_type": "markdown",
   "id": "37275929-9109-47a4-95c1-493e33844d81",
   "metadata": {
    "jp-MarkdownHeadingCollapsed": true
   },
   "source": [
    "- Sitio oficial https://docs.python.org/3/library/index.html\n",
    "- Funciones interconstruidas en Python https://docs.python.org/3/library/functions.html\n",
    "- Tipos de datos interconstruidos en Python https://docs.python.org/3/library/stdtypes.html\n",
    "- Creando y revisado por la Fundación de Python"
   ]
  },
  {
   "cell_type": "markdown",
   "id": "5673edb7-7419-45e6-8d7c-a75e9a280f46",
   "metadata": {},
   "source": [
    "## El repositorio de paquetes de la comunidad\n",
    "---"
   ]
  },
  {
   "cell_type": "markdown",
   "id": "2050bc70-94f7-4c5b-a8f1-e9fd9d772b8c",
   "metadata": {
    "jp-MarkdownHeadingCollapsed": true
   },
   "source": [
    "- Sitio oficial de PyPi (Python Package Indicex) https://pypi.org/\n",
    "- No oficial\n",
    "- Creado por la comunidad\n",
    "- No confiar en cualquier paquete, módulo o librería"
   ]
  },
  {
   "cell_type": "markdown",
   "id": "ad84eb16-cd75-4dca-a60b-6181aeb3b4b2",
   "metadata": {},
   "source": [
    "## Tipos de datos interconstruidos en Python\n",
    "---"
   ]
  },
  {
   "cell_type": "markdown",
   "id": "fae8d87d-bde8-4f04-a8d0-312e704da4ea",
   "metadata": {},
   "source": [
    "| Tipo de dato | Ejemplo de información | Ejemplo en Python |\n",
    "|---|---|---|\n",
    "| **int** | Cantidad, Edad, Contadores | `23, 99, 12345` |\n",
    "| **float** | Núm. con decimales, Moneda | `37.8, 75.1, 12345.67` |\n",
    "| **str** | Texto | \"00123\", \"Fulanito García\", `'$12345.67 M.N'` |\n",
    "| **bool** | Valores lógicos | `True, False` |\n",
    "|---|---|---|\n",
    "| **list** | Lista de ventas, Lista mixta | `[1, 2.5, \"tres\", True]` |\n",
    "| **tuple** | Listas que generalmente no cambian | `(1, 2.5, \"tres\", True)` |\n",
    "| **set** | Cual es la intersección entre dos conjuntos | `a.intersection(b)` |\n",
    "| **dict** | Lista de empleados en base a su ID | `{\"001\":\"Fulanito García\"}` |\n"
   ]
  },
  {
   "cell_type": "markdown",
   "id": "5a72c00b-1af0-4072-9bc2-96f1d491720d",
   "metadata": {},
   "source": [
    "### Comprendiendo tipos de datos nuyméricos y operaciones"
   ]
  },
  {
   "cell_type": "markdown",
   "id": "9db60b1f-9306-4f14-b89b-49fd1c6cbea9",
   "metadata": {},
   "source": [
    "| Operador   | Operación            | Ejemplo en Python   |\n",
    "|------------|----------------------|---------------------|\n",
    "| +          | suma                 | 5 + 11              |\n",
    "| -          | resta                | 5 - 11              |\n",
    "| /          | división             | 5 / 2               |\n",
    "| *          | producto             | 5 * 22              |\n",
    "| **         | potencia             | 5 ** 2              |\n",
    "| //         | división hacia abajo | 5 // 2              |\n",
    "| %          | módulo               | 5 % 2               |\n"
   ]
  },
  {
   "cell_type": "markdown",
   "id": "2ac20aea-3fad-46f4-bbb2-9bf8d78bfc4d",
   "metadata": {},
   "source": [
    "Realicemos algunas operaciones numéricas +, -, *, /, **:"
   ]
  },
  {
   "cell_type": "code",
   "execution_count": null,
   "id": "d4e12d9c-fb33-44f5-bb1d-477fdf0c454e",
   "metadata": {},
   "outputs": [],
   "source": [
    "# realia las operaciones indicadas"
   ]
  },
  {
   "cell_type": "markdown",
   "id": "35fd374f-05ec-439d-bd20-ee0e15006e7c",
   "metadata": {},
   "source": [
    "Realicemos algunas operaciones numéricas /, // y %:\n",
    "\n",
    "$$5 / 2 = \\color{red}2\\color{black}.5 => 2.5 * 2 = 5$$\n",
    "\n",
    "$$5 // 2 = \\color{red}2\\color{black}  =>  2 * 2 = 4 => 5 - 4 = \\color{green}1\\color{black} (residuo)$$\n",
    "\n",
    "$$5 \\% 2 = \\color{green}1$$"
   ]
  },
  {
   "cell_type": "code",
   "execution_count": null,
   "id": "5f538f1a-d82d-412b-9e79-80d678c01d66",
   "metadata": {},
   "outputs": [],
   "source": [
    "# realiza las operaciones indicadas"
   ]
  },
  {
   "cell_type": "markdown",
   "id": "88872013-ffd8-4801-b0d2-9d57c3c59234",
   "metadata": {},
   "source": [
    "### Comprendiendo operadores de asignación"
   ]
  },
  {
   "cell_type": "markdown",
   "id": "b7509b9f-c5f1-40e0-959e-0495cb90f973",
   "metadata": {},
   "source": [
    "| Operador   | Operación            | Ejemplo             |\n",
    "|------------|----------------------|---------------------|\n",
    "| =          | x = 11               | x = 11              |\n",
    "| +=         | x = x + 5            | x += 5              |\n",
    "| -=         | x = x - 5            | x -= 5              |\n",
    "| *=         | x = x * 5            | x *= 5              |\n",
    "| /=         | x = x / 5            | x /= 5              |\n",
    "| %=         | x = x % 5            | x %= 5              |\n",
    "| //=        | x = x // 5           | x //= 5             |\n",
    "| **=        | x = x ** 5           | x **= 5             |\n",
    "\n",
    "Realicemos algunas operaciones:"
   ]
  },
  {
   "cell_type": "code",
   "execution_count": null,
   "id": "33bd65bf-72f0-4ed3-a482-cf8488b00e6f",
   "metadata": {},
   "outputs": [],
   "source": [
    "# realiza las operaciones indicadas"
   ]
  },
  {
   "cell_type": "markdown",
   "id": "536ba251-dc79-43f6-8ffc-9f1d9d6ef25a",
   "metadata": {},
   "source": [
    "### Comprendiendo operadores de comparación"
   ]
  },
  {
   "cell_type": "markdown",
   "id": "b81bf718-c559-4219-9f7f-7ac297c1d2ee",
   "metadata": {},
   "source": [
    "| Operador   | Operación            | Ejemplo             |\n",
    "|------------|----------------------|---------------------|\n",
    "| ==         | es igual             | x == y              |\n",
    "| !=         | es diferente         | x != y              |\n",
    "| <          | es menor que         | x < y               |\n",
    "| <=         | es menor o igual que | x <= y              |\n",
    "| >          | es mayor que         | x > 5               |\n",
    "| >=         | es mayor o igual que | x >= 5              |\n",
    "\n",
    "Realicemos algunas operaciones:"
   ]
  },
  {
   "cell_type": "code",
   "execution_count": null,
   "id": "7a775968-081d-4065-9086-550fa35476e5",
   "metadata": {},
   "outputs": [],
   "source": [
    "# realiza las operaciones indicadas"
   ]
  },
  {
   "cell_type": "markdown",
   "id": "464b3bd6-6413-4444-b813-d7d3c97e5046",
   "metadata": {},
   "source": [
    "### Comprendiendo operadores lógicos"
   ]
  },
  {
   "cell_type": "markdown",
   "id": "9e1d0320-e1f8-4dd6-a910-337a142af720",
   "metadata": {},
   "source": [
    "| Operador   | Operación            | Ejemplo             |\n",
    "|------------|----------------------|---------------------|\n",
    "| and        | Regresa verdadero si ambas expresiones son verdaderas | x == y and x <= 100 |\n",
    "| or         | Regresa verdadero si una de las expresiones es verdadera | x != y or 0 < y  |\n",
    "| not        | Invierte el resultado | not( x < y ) |\n",
    "| in         | Regresa verdadero si un elementos está presente en una secuencia | x in list_y |\n",
    "| not in     | Regresa verdadero si un elementos no está presente en una secuencia | x not in list_y |\n",
    "\n",
    "Realicemos algunas operaciones:"
   ]
  },
  {
   "cell_type": "code",
   "execution_count": null,
   "id": "43dbd530-61f7-4f0e-8b10-8bdaf09f819e",
   "metadata": {},
   "outputs": [],
   "source": [
    "# realiza las operaciones indicadas"
   ]
  },
  {
   "cell_type": "markdown",
   "id": "ca22eeab-b6cb-4399-b7f3-a69c6d7ae9e4",
   "metadata": {},
   "source": [
    "**Ejercita tu mente:** Resuelve usando algunas variables y operaciones numéricas de Python:\n",
    "\n",
    "> Karen es 8 años mayor que Cristina, si ambas edades suman 67 años ¿Cuántos años tiene cada una?"
   ]
  },
  {
   "cell_type": "code",
   "execution_count": null,
   "id": "b7d6da8c-7744-42c2-a6f6-14718d67546a",
   "metadata": {},
   "outputs": [],
   "source": [
    "# plantea y resuelve el problea"
   ]
  },
  {
   "cell_type": "markdown",
   "id": "f4838fd1-3c69-4c2e-b34b-41fab375888f",
   "metadata": {},
   "source": [
    "## Comprendiendo operaciones y funciones de Strings\n",
    "---"
   ]
  },
  {
   "cell_type": "markdown",
   "id": "ef78d520-0cd2-44b5-b1e6-4908ecaaecd4",
   "metadata": {},
   "source": [
    "### Creando cadenas de texto (str)"
   ]
  },
  {
   "cell_type": "markdown",
   "id": "0c37de63-d453-4b4b-93da-74785e8d0047",
   "metadata": {},
   "source": [
    "| Definición   | Descripción            | Ejemplo             |\n",
    "|------------|----------------------|---------------------|\n",
    "| \"\", ''     | Crea una cadena vacía | \"\" |\n",
    "| \"texto\", 'texto' | Crea una cadena con información inicial | \"Benito Bodoque\" |\n",
    "| \"\"\"texto multi línea\"\"\" | Crea una cadena que puede ser escríta en múltipleas línea  | (hacer ejemplo) |\n",
    "\n",
    "Realicemos algunas operaciones:"
   ]
  },
  {
   "cell_type": "code",
   "execution_count": null,
   "id": "780db3a6-b31f-4bd9-85b7-fc89eea06490",
   "metadata": {},
   "outputs": [],
   "source": [
    "# realiza las operaciones indicadas"
   ]
  },
  {
   "cell_type": "markdown",
   "id": "6e6e3e14-ee0e-4930-b005-9298a9592d6d",
   "metadata": {},
   "source": [
    "### Comprendiendo operadores con cadenas (str)"
   ]
  },
  {
   "cell_type": "markdown",
   "id": "ee6fa509-4bed-4563-9671-bb36dbca3a8c",
   "metadata": {},
   "source": [
    "| Operador   | Operación            | Ejemplo             |\n",
    "|------------|----------------------|---------------------|\n",
    "| +          | Concatena o une dos cadenas | \"uno\" + \"dos\" -> \"unodos\" |\n",
    "| *          | Crea n copias de la cadena  | \"uno\" * 3 -> \"unounouno\" |\n",
    "\n",
    "Realicemos algunas operaciones:"
   ]
  },
  {
   "cell_type": "code",
   "execution_count": null,
   "id": "867a37d8-b09a-4483-8964-9fe9288522a4",
   "metadata": {},
   "outputs": [],
   "source": [
    "# realiza las operaciones indicadas"
   ]
  },
  {
   "cell_type": "markdown",
   "id": "da3fc5b9-bc07-47fb-8208-572217d49394",
   "metadata": {},
   "source": [
    "### Comprendiendo símbolos especiales de formato (herados de lenguaje C)"
   ]
  },
  {
   "cell_type": "markdown",
   "id": "0ded07d4-fef1-4ad8-996a-0d67cd34b7ad",
   "metadata": {},
   "source": [
    "| Símbolo   | Descripción            | Ejemplo             |\n",
    "|-----------|----------------------|---------------------|\n",
    "| \\n        | Salta o avanza el cursor de línea | \"Línea 1\\nLínea 2\" |\n",
    "| \\r        | Regresa el cursor al inicio de línea | \"Línea 1\\n\\rLínea 2\" |\n",
    "| \\t        | Inserta un tabulador | \"Columna 1\\tColumna 2\" |\n",
    "\n",
    "Realicemos algunas operaciones:"
   ]
  },
  {
   "cell_type": "code",
   "execution_count": null,
   "id": "88601a4e-1f32-4858-a97d-c447f6303b58",
   "metadata": {},
   "outputs": [],
   "source": [
    "# realiza las operaciones indicadas"
   ]
  },
  {
   "cell_type": "markdown",
   "id": "fd315cb9-da15-42f6-9966-c30c7f8d5803",
   "metadata": {},
   "source": [
    "### Comprendiendo algunas funciones de cadenas (str)"
   ]
  },
  {
   "cell_type": "markdown",
   "id": "c98c815d-d38a-44ae-a48b-3bd46af7418f",
   "metadata": {},
   "source": [
    "| Función    | Descripción            | Ejemplo             |\n",
    "|------------|----------------------|---------------------|\n",
    "| strip()    | Elimina blancos antes y después | \"\\tLínea 1\\nLínea 2\\n\\r   \".split() |\n",
    "| split(sep) | Divide la cadena en base a *sep* o los símbolos en blanco | \"Col 1\\tCol 2 Col 3\" |\n",
    "| find(sub)  | Regresa el menor índice donde aparece sub cadena | \"12345671234\".find(\"34\") |\n",
    "| count(sub)  | Cuenta el número de sub cadenas | \"12345671234\".count(\"34\") |\n",
    "\n",
    "Realicemos algunas operaciones:"
   ]
  },
  {
   "cell_type": "code",
   "execution_count": null,
   "id": "c7d8e327-db25-48cd-9ade-663f3494aad0",
   "metadata": {},
   "outputs": [],
   "source": [
    "# strip"
   ]
  },
  {
   "cell_type": "code",
   "execution_count": null,
   "id": "38acf7fe-e463-4f12-a817-ec18d523c8ce",
   "metadata": {},
   "outputs": [],
   "source": [
    "# split"
   ]
  },
  {
   "cell_type": "code",
   "execution_count": null,
   "id": "69d9d122-809c-4cc8-ac35-08821be95c0b",
   "metadata": {},
   "outputs": [],
   "source": [
    "# find"
   ]
  },
  {
   "cell_type": "code",
   "execution_count": null,
   "id": "73dae404-dd45-4314-a07f-d4edc6c736ae",
   "metadata": {},
   "outputs": [],
   "source": [
    "# count"
   ]
  },
  {
   "cell_type": "markdown",
   "id": "ad3e48c4-9bef-4eb0-b5b1-1c6c87bc8047",
   "metadata": {},
   "source": [
    "Pero podemos obtener ayuda de Python, veamos como:"
   ]
  },
  {
   "cell_type": "code",
   "execution_count": null,
   "id": "dc0118dd-2882-46e4-bb5a-ac6afc55d785",
   "metadata": {},
   "outputs": [],
   "source": [
    "str.upper?"
   ]
  },
  {
   "cell_type": "code",
   "execution_count": null,
   "id": "8e8925b9-7e00-44b7-a6f2-d96459255142",
   "metadata": {},
   "outputs": [],
   "source": [
    "# upper"
   ]
  },
  {
   "cell_type": "markdown",
   "id": "51c76830-4e45-419c-9a92-0157e1271760",
   "metadata": {},
   "source": [
    "## Comprendiendo operaciones y funciones de Listas (list)\n",
    "---"
   ]
  },
  {
   "cell_type": "markdown",
   "id": "1260aad1-89e3-44c2-a272-0b1320ac8cbc",
   "metadata": {},
   "source": [
    "### Creando listas (list)"
   ]
  },
  {
   "cell_type": "markdown",
   "id": "cf868414-b4f9-45b3-9962-4d4eda7df4a4",
   "metadata": {},
   "source": [
    "| Definición   | Descripción            | Ejemplo             |\n",
    "|--------------|----------------------|---------------------|\n",
    "| [], list()   | Crea una lista vacía | [], list() |\n",
    "| [-elementos-]| Crea una lista con información incial | [1, 2, \"tres\", 4.5, True] |\n",
    "| list(range(n)) | Crea una lista de n números iniciando en 0  | list(range(10)) |\n",
    "| list(str) | Crea una lista con las letras de str | list(\"Hola mundo!\") |\n",
    "\n",
    "Realicemos algunas operaciones:"
   ]
  },
  {
   "cell_type": "code",
   "execution_count": null,
   "id": "1f643901-29f2-4dda-b13a-e9aed0efc7e3",
   "metadata": {},
   "outputs": [],
   "source": [
    "# creando lista vacía con []"
   ]
  },
  {
   "cell_type": "code",
   "execution_count": null,
   "id": "64e68b7a-f318-4e13-b19a-7af05e49fd79",
   "metadata": {},
   "outputs": [],
   "source": [
    "# creando lista vacía con list()"
   ]
  },
  {
   "cell_type": "code",
   "execution_count": null,
   "id": "a722d521-31b1-46b7-96a3-8f134aead3f9",
   "metadata": {},
   "outputs": [],
   "source": [
    "# creando una lista con multiples tipos de datos"
   ]
  },
  {
   "cell_type": "code",
   "execution_count": null,
   "id": "8f55854d-a69e-4759-8ee8-9e1cb5167fcc",
   "metadata": {},
   "outputs": [],
   "source": [
    "# creando una lista de números con range()"
   ]
  },
  {
   "cell_type": "code",
   "execution_count": null,
   "id": "2fe2d434-fbb9-48b3-9bb4-97f3596b506c",
   "metadata": {},
   "outputs": [],
   "source": [
    "# imprimiendo una lista de números con for"
   ]
  },
  {
   "cell_type": "code",
   "execution_count": null,
   "id": "cfb7f636-cc23-4a72-ba58-71cc1ab0d8fd",
   "metadata": {},
   "outputs": [],
   "source": [
    "# Imprimiendo una lista de números con for en una línea"
   ]
  },
  {
   "cell_type": "code",
   "execution_count": null,
   "id": "f1b1e469-f557-48b2-8fad-9b0a386600a5",
   "metadata": {},
   "outputs": [],
   "source": [
    "# Ejercita tu mente: Calcula la suma de los primeros 100 enteros usando for y range"
   ]
  }
 ],
 "metadata": {
  "kernelspec": {
   "display_name": "Python 3 (ipykernel)",
   "language": "python",
   "name": "python3"
  },
  "language_info": {
   "codemirror_mode": {
    "name": "ipython",
    "version": 3
   },
   "file_extension": ".py",
   "mimetype": "text/x-python",
   "name": "python",
   "nbconvert_exporter": "python",
   "pygments_lexer": "ipython3",
   "version": "3.11.4"
  }
 },
 "nbformat": 4,
 "nbformat_minor": 5
}
