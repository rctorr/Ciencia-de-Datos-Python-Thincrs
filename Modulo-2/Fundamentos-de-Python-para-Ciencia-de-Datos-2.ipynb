{
 "cells": [
  {
   "cell_type": "markdown",
   "id": "8db36c63-5c75-4b09-932a-165629ef2bd0",
   "metadata": {},
   "source": [
    "**Módulo 2:** Fundamentos de Python para la Ciencia de Datos 2"
   ]
  },
  {
   "cell_type": "markdown",
   "id": "68f649ea-6844-4d11-a8ab-0fa17da68111",
   "metadata": {},
   "source": [
    "### Comprendiendo algunos operadores de listas (list)"
   ]
  },
  {
   "cell_type": "markdown",
   "id": "889745cc-97d8-41c1-8e55-7ad099d63bde",
   "metadata": {},
   "source": [
    "| Operador   | Operación            | Ejemplo             |\n",
    "|------------|----------------------|---------------------|\n",
    "| +          | Concatena o une dos listas | [1,2,3] + [3,4,5] -> [1,2,3,3,4,5] |\n",
    "| *          | Crea n copias de la lista  | [1,2,3] * 3 -> [1,2,3,1,2,3,1,2,3] |\n",
    "\n",
    "Realicemos algunas operaciones:"
   ]
  },
  {
   "cell_type": "code",
   "execution_count": null,
   "id": "79a1e2fe-53c5-4aeb-a63f-2ec2c0436e0a",
   "metadata": {},
   "outputs": [],
   "source": [
    "# realiza las operaciones indicadas"
   ]
  },
  {
   "cell_type": "markdown",
   "id": "07f4f7ac-c534-4186-a0f6-69dcf8cb4570",
   "metadata": {},
   "source": [
    "### Comprendiendo algunas funciones de listas (str)"
   ]
  },
  {
   "cell_type": "markdown",
   "id": "fd82410f-f555-44f6-9713-3af5ceebd258",
   "metadata": {},
   "source": [
    "| Función        | Descripción            | Ejemplo             |\n",
    "|----------------|----------------------|---------------------|\n",
    "| append()       | Agrega un elemento al final de la lista | [1,2,3].append(4) |\n",
    "| pop()          | Elimina y regresa el último elemento de la lista | [1,2,3,4].pop() |\n",
    "| remove(val)    | Elimina la primera aprición de val en la lista o regresa error si no existe | [1,2,3,4,2].remove(2) |\n",
    "| sort()         | Ordena los elementos de una lista | [3,5,1,4,2].sort() |\n",
    "| str.join(list) | Une o concatena los elementos de una lista | \"+\".join([\"uno\",\"dos\",\"tres\"]) |\n",
    "\n",
    "Realicemos algunas operaciones:"
   ]
  },
  {
   "cell_type": "code",
   "execution_count": null,
   "id": "eb264938-9ca6-425c-a910-7a0ae5a21cb0",
   "metadata": {},
   "outputs": [],
   "source": [
    "# realiza las operaciones indicadas"
   ]
  },
  {
   "cell_type": "code",
   "execution_count": null,
   "id": "f8504d82-cf01-4357-b3ab-de08f5c6cdff",
   "metadata": {},
   "outputs": [],
   "source": [
    "# realiza las operaciones indicadas"
   ]
  },
  {
   "cell_type": "code",
   "execution_count": null,
   "id": "5648accf-bd40-42f5-9558-89e42714fc83",
   "metadata": {},
   "outputs": [],
   "source": [
    "list.sort?"
   ]
  },
  {
   "cell_type": "markdown",
   "id": "8bd76bf1-ab92-4834-ad99-06d6cace09ab",
   "metadata": {},
   "source": [
    "### Accediendo y modificando los elementos de una lista"
   ]
  },
  {
   "cell_type": "markdown",
   "id": "a2fe9fea-b21e-4569-9b02-7c3398613436",
   "metadata": {},
   "source": [
    "| Función        | Descripción            | Ejemplo             |\n",
    "|----------------|----------------------|---------------------|\n",
    "| lista[n]       | Regresa el elemento n de la lista. El primer elemento siempre inicia en la posición 0 | nombres[0] |\n",
    "| lista[n:m]     | Obtiene los elementos de la posición n a la m-1 de la lista | [1,2,3,4][1:3] |\n",
    "| lista[n:]      | Obtiene los elementos de la posición n al final de la lista | [1,2,3,4,2][2:] |\n",
    "| lista[:m]      | Obtiene los elementos desde el inicio hasta la posición m-1 de la lista | [1,2,3,4,2][:3] |\n",
    "| lista[n] = val | Remplaza el valor en la posición n por val | nombres[3] = \"Benito\" |\n",
    "\n",
    "Realicemos algunas operaciones:"
   ]
  },
  {
   "cell_type": "code",
   "execution_count": null,
   "id": "d5f1b993-f53f-4aae-b009-5d0a0276a18d",
   "metadata": {},
   "outputs": [],
   "source": [
    "# realiza las operaciones indicadas"
   ]
  },
  {
   "cell_type": "code",
   "execution_count": null,
   "id": "584f3ca3-78d4-4c4e-8776-b9b56bdeef4b",
   "metadata": {},
   "outputs": [],
   "source": [
    "# realiza las operaciones indicadas"
   ]
  },
  {
   "cell_type": "code",
   "execution_count": null,
   "id": "a2d2414c-4299-4938-8ac8-30c317c20760",
   "metadata": {},
   "outputs": [],
   "source": [
    "# realiza las operaciones indicadas"
   ]
  },
  {
   "cell_type": "code",
   "execution_count": null,
   "id": "b8319ee4-235b-49dc-8abe-42ef3124b0e9",
   "metadata": {},
   "outputs": [],
   "source": [
    "# realiza las operaciones indicadas"
   ]
  },
  {
   "cell_type": "markdown",
   "id": "3e1be8d9-38cb-4ae4-bdeb-5c66b612b009",
   "metadata": {},
   "source": [
    "Forma Pythonesca de llegar al último elemento `-1`:"
   ]
  },
  {
   "cell_type": "code",
   "execution_count": null,
   "id": "5a90677c-00e1-41eb-baf6-34cfa5bb6c90",
   "metadata": {},
   "outputs": [],
   "source": [
    "# realiza las operaciones indicadas"
   ]
  },
  {
   "cell_type": "markdown",
   "id": "dc509a15-7c96-4498-bc5f-edf6dcc85dea",
   "metadata": {},
   "source": [
    "## Comprendiendo operaciones y funciones de diccionarios o mapas (dict)\n",
    "---"
   ]
  },
  {
   "cell_type": "markdown",
   "id": "7630fde9-065d-4971-9ebd-886f87ddf215",
   "metadata": {},
   "source": [
    "### Creando, accediendo y modificando los elementos de un diccionario"
   ]
  },
  {
   "cell_type": "markdown",
   "id": "7dc681a8-af33-4627-84eb-cb71c719a228",
   "metadata": {},
   "source": [
    "| Función        | Descripción            | Ejemplo             |\n",
    "|----------------|----------------------|---------------------|\n",
    "| {}, dict()     | Creea un diccionario vacío | {} |\n",
    "| {key: val, ...}| Un diccionario se crea usando parejas de llave:valor | {1:\"uno\", 2:\"dos\", 3:3.5} |\n",
    "| dict.items()   | Obtiene los elementos de un diccionario por parejas | {1:\"uno\", 2:\"dos\", 3:3.5}.items() |\n",
    "| dict[key]      | Obtiene el valor de la llave indicada por key | {1:\"uno\", 2:\"dos\", 3:3.5}[2] |\n",
    "| dict[key] = val| Remplaza el valor en la llave key por val, si la llave no existe se crea | nombres[3] = \"Benito\" |\n",
    "\n",
    "Realicemos algunas operaciones:"
   ]
  },
  {
   "cell_type": "code",
   "execution_count": null,
   "id": "ca4d4f49-a98a-4fbf-b060-8e16d0f0cad9",
   "metadata": {},
   "outputs": [],
   "source": [
    "# realiza las operaciones indicadas"
   ]
  },
  {
   "cell_type": "code",
   "execution_count": null,
   "id": "8b88676a-3eb3-471f-9bf4-74abea415b5c",
   "metadata": {},
   "outputs": [],
   "source": [
    "# realiza las operaciones indicadas"
   ]
  },
  {
   "cell_type": "code",
   "execution_count": null,
   "id": "cd8af0c5-d81d-4bea-b5b8-fe5025e1aa74",
   "metadata": {},
   "outputs": [],
   "source": [
    "# realiza las operaciones indicadas"
   ]
  },
  {
   "cell_type": "code",
   "execution_count": null,
   "id": "60607f55-2207-4131-92d5-ab81d6081a59",
   "metadata": {},
   "outputs": [],
   "source": [
    "# obtener la lista de llaves (keys)"
   ]
  },
  {
   "cell_type": "code",
   "execution_count": null,
   "id": "1bcdf044-4ed7-45b7-93ca-66424511d5ad",
   "metadata": {},
   "outputs": [],
   "source": [
    "# obtener la lista de valores (values)"
   ]
  },
  {
   "cell_type": "code",
   "execution_count": null,
   "id": "a637f00f-5242-4546-a470-83bdfff1224b",
   "metadata": {},
   "outputs": [],
   "source": [
    "# obtener la lista de elementos (items)"
   ]
  },
  {
   "cell_type": "markdown",
   "id": "f517acb1-8c5f-4562-b8c1-918c85b0a76a",
   "metadata": {},
   "source": [
    "## Elegir la estructura de datos correcta\n",
    "---"
   ]
  },
  {
   "cell_type": "markdown",
   "id": "901e13bc-7dd6-4e2c-874e-827bea48b3d0",
   "metadata": {},
   "source": [
    "Después de revisar los tipos interconstruidos de Python sobre todo los estructurados, podemos elegir entre listas, tuplas, conjuntos o diccionarios, aunque los más usados son las listas o los diccionarios a veces dependiendo del tipo de dato, las operaciones a realizar o incluso el éstilo de programas será preferible usar unas respecto a otras, sin embargo las **Listas** son la estructura de dato por excelencia en Python."
   ]
  },
  {
   "cell_type": "markdown",
   "id": "79877b5a-b6ae-4dee-8bd9-e1a359e8f65b",
   "metadata": {},
   "source": [
    "## Listas de compresión\n",
    "---"
   ]
  },
  {
   "cell_type": "markdown",
   "id": "79855f58-d8ca-45d2-8785-aacca8625ff7",
   "metadata": {},
   "source": [
    "### Entendiendo la forma de una lista de compresión\n",
    "\n",
    "Las lista de compresión se utiliozan principalmente para transformar una colección de datos (no necesariamente una lista) dando como resultado una lista, la sintaxis o forma es la siguiente:\n",
    "\n",
    "`[ x for x in -collección- if -condicion- ]`"
   ]
  },
  {
   "cell_type": "markdown",
   "id": "f158113b-2451-48dd-b890-ed419a3d6c86",
   "metadata": {},
   "source": [
    "{ A x tales que x > 0 x e Reales } "
   ]
  },
  {
   "cell_type": "markdown",
   "id": "ae8dbf30-5291-48f7-a9a1-dd2c98cdc2b9",
   "metadata": {},
   "source": [
    "**Ejemplo:** Dada la siguiente lista obtén una lista con el cuadrado de cada valor"
   ]
  },
  {
   "cell_type": "code",
   "execution_count": null,
   "id": "253d500c-3906-4eb0-9dc3-9a6c46030cf1",
   "metadata": {},
   "outputs": [],
   "source": [
    "numeros = [1,2,3,4,5,6,7,8,9,10]\n",
    "\n",
    "# resuelve utilizando ciclo for"
   ]
  },
  {
   "cell_type": "code",
   "execution_count": null,
   "id": "7f7b23ca-9c19-4182-8f9b-f56b0da2046f",
   "metadata": {},
   "outputs": [],
   "source": [
    "numeros = [1,2,3,4,5,6,7,8,9,10]\n",
    "\n",
    "# resuelve utilizando listas de compresión"
   ]
  },
  {
   "cell_type": "markdown",
   "id": "96827084-c807-4437-93ac-3852b724b5e0",
   "metadata": {},
   "source": [
    "**Ejemplo:** Dada la siguiente lista obtén sólo los valores positivos"
   ]
  },
  {
   "cell_type": "code",
   "execution_count": null,
   "id": "3a08d7ae-fb31-4456-a125-073326da8ab7",
   "metadata": {},
   "outputs": [],
   "source": [
    "numeros = [-4,-3,-2,-1,0,1,2,3,4,5,6,7,8,9,10]\n",
    "\n",
    "# resuelve utilizando listas de compresión"
   ]
  },
  {
   "cell_type": "markdown",
   "id": "92d4a425-ef3f-420c-97c5-b46bc26d6f9d",
   "metadata": {},
   "source": [
    "**Ejercicio:** Dada la siguiente lista obtén una lista con lo valores no negativos"
   ]
  },
  {
   "cell_type": "code",
   "execution_count": null,
   "id": "dded6672-80e1-4f00-82b1-8e1e25b35551",
   "metadata": {},
   "outputs": [],
   "source": [
    "numeros = [-4,-3,-2,-1,0,1,2,3,4,5,6,7,8,9,10]\n",
    "\n",
    "# resuelve utilizando listas de compresión"
   ]
  },
  {
   "cell_type": "markdown",
   "id": "7b5fa5b8-91d1-4afa-9aeb-063a51f56248",
   "metadata": {},
   "source": [
    "**Ejemplo:** Dada la siguiente lista nombres, convierte los nombre en nombre propios usando la primera letra mayúscula y las demás minúsculas"
   ]
  },
  {
   "cell_type": "code",
   "execution_count": null,
   "id": "40189cc6-1f3c-4879-ba0d-073433aaf918",
   "metadata": {},
   "outputs": [],
   "source": [
    "superheroes = [\"BENITO\", \"ironman\", \"hulK\", \"viuda Negra\", \"capitana MARVEL\", \"capi\"]\n",
    "\n",
    "# resuelve utilizando listas de compresión"
   ]
  },
  {
   "cell_type": "markdown",
   "id": "61874a25-4740-4ba5-a283-33c60f43cd72",
   "metadata": {},
   "source": [
    "**Ejemplo:** Dada la siguiente lista nombres, convierte en nombre propios y además elimina blancos antes y después de cada nombre sin eliminar los blancos intermedios"
   ]
  },
  {
   "cell_type": "code",
   "execution_count": null,
   "id": "53cbd9de-4c85-49a8-9daa-f51ba0b3d7e3",
   "metadata": {},
   "outputs": [],
   "source": [
    "numeros = [\"   BENITO\", \"ironman   \", \"  hulK   \", \"   viuda Negra\\n\", \"\\t capitana MARVEL  \", \"\\t capi\\n \"]\n",
    "\n",
    "# resuelve utilizando listas de compresión"
   ]
  },
  {
   "cell_type": "markdown",
   "id": "f9c10974-7186-48d3-bab4-d2c4d42f4a83",
   "metadata": {},
   "source": [
    "## Contando con el módulo de colecciones (collections)\n",
    "---"
   ]
  },
  {
   "cell_type": "markdown",
   "id": "02ba01bf-ca6a-49b3-ab3d-6c2493bc4961",
   "metadata": {
    "jp-MarkdownHeadingCollapsed": true
   },
   "source": [
    "Éste es un módulo que crea un tipo especial de diccionarios llamados Counter y permite obtener la cuenta de los elementos iguales y además obtener la lista de los elementos únicos.\n",
    "\n",
    "La sintaxis es:\n",
    "\n",
    "`variable = Counter(-secuencia de valores-)`\n",
    "\n",
    "Veamos un ejemplo, dada la siguiente frase, encuentra la frecuencia de cada símbolo"
   ]
  },
  {
   "cell_type": "code",
   "execution_count": 2,
   "id": "7429884a-0110-41fa-acb9-23bf76b43462",
   "metadata": {},
   "outputs": [
    {
     "data": {
      "text/plain": [
       "7"
      ]
     },
     "execution_count": 2,
     "metadata": {},
     "output_type": "execute_result"
    }
   ],
   "source": [
    "from collections import Counter\n",
    "\n",
    "frase = \"Me siento feliz de tener a Python en mi vida\"\n",
    "letras = Counter(frase)\n",
    "letras['e']"
   ]
  },
  {
   "cell_type": "markdown",
   "id": "d6998f79-8548-48a3-8307-91081e137247",
   "metadata": {},
   "source": [
    "**Ejemplo:** Eliminar los valores duplicados de la siguiente lista de productos usando `Counter()`"
   ]
  },
  {
   "cell_type": "code",
   "execution_count": 5,
   "id": "53fa4bce-2bb3-4642-95d6-81320459b45d",
   "metadata": {},
   "outputs": [],
   "source": [
    "productos = [\"Leche\", \"Leche\", \"Leche\", \"Huevos\", \"Huevos\", \"Pan\", \"Pan\",\n",
    "             \"Queso\", \"Queso\", \"Carne\", \"Carne\", \"Pescado\", \"Pescado\",\n",
    "             \"Verduras\", \"Frutas\", \"Cereal\", \"Yogurt\", \"Jugos\", \"Agua\",\n",
    "             \"Bebidas alcohólicas\", \"Bebidas gaseosas\", \"Azúcar\", \"Sal\",\n",
    "             \"Aceite\", \"Pasta\", \"Arroz\", \"Frijoles\", \"Papas\"]\n",
    "\n",
    "# resuelve utilizando counter()"
   ]
  },
  {
   "cell_type": "markdown",
   "id": "3014cd7a-8b81-4098-ab97-334b66b9cc68",
   "metadata": {},
   "source": [
    "**Ejemplo:** Eliminar los valores duplicados de la siguiente lista de productos usando conjuntos (set)"
   ]
  },
  {
   "cell_type": "code",
   "execution_count": null,
   "id": "8346b9ae-9a17-4490-bcee-a0853c7ca4e1",
   "metadata": {},
   "outputs": [],
   "source": [
    "# resuelve en una línea"
   ]
  },
  {
   "cell_type": "code",
   "execution_count": null,
   "id": "a617dbc8-bd79-4a18-95c9-07a374b39fad",
   "metadata": {},
   "outputs": [],
   "source": [
    "# resuelve paso a paso"
   ]
  },
  {
   "cell_type": "markdown",
   "id": "65a8cb56-7f60-46d1-8169-4d0b28efdbdc",
   "metadata": {},
   "source": [
    "**Ejemplo:** Imprime una tabla con dos columnas, producto y número de repeticiones de menor a mayor.\n",
    "\n",
    "**Si eres expert@** imprime la lista sin hacer uso de un ciclo for sólo usando cadenas, listas, listas de compresión y print."
   ]
  },
  {
   "cell_type": "code",
   "execution_count": null,
   "id": "5f52a13f-48d7-4b46-8d6d-1523a2498970",
   "metadata": {},
   "outputs": [],
   "source": [
    "sorted?"
   ]
  },
  {
   "cell_type": "code",
   "execution_count": null,
   "id": "aec38816-e280-4c6f-801c-1b6a0cc602e4",
   "metadata": {},
   "outputs": [],
   "source": [
    "# resuelve usando sorted()"
   ]
  },
  {
   "cell_type": "code",
   "execution_count": null,
   "id": "07ebea3e-7ffe-4b41-8a3d-0aa4619ffd6b",
   "metadata": {},
   "outputs": [],
   "source": [
    "# resuelve usando ciclo for y cadenas con formato"
   ]
  },
  {
   "cell_type": "markdown",
   "id": "958ee931-074e-4f9b-b7fa-67e7cc764c02",
   "metadata": {},
   "source": [
    "## Trabajando con archivos\n",
    "---"
   ]
  },
  {
   "cell_type": "markdown",
   "id": "39c24b34-2478-422a-9f09-53723786ef35",
   "metadata": {},
   "source": [
    "El manejo de archivo en Python se realiza mediante la instrucción `open()` y generalmente se puede usar un archivos en dos modos para lectura o para escritura, además dependiendo de la necesidad se puede usar una de las siguientes dos formas:\n",
    "\n",
    "Forma 1:\n",
    "```\n",
    "arch = open(-nombre de archivo-, -modo-, encoding=-codigo de caracteres del archivo-, newline=None)\n",
    "- se usa la variable arch para leer o escribir en el archivo\n",
    "close(arch)\n",
    "```\n",
    "\n",
    "Forma 2:\n",
    "```\n",
    "with open(-nombre de archivo-, ...) as arch:\n",
    "    - se usa la variable arch para leer o escribir en el archivo\n",
    "```\n",
    "\n",
    "**Ejemplo:** Escribe la lista de productos con repeticiones en el archivo `productos.txt` usando la forma 1"
   ]
  },
  {
   "cell_type": "code",
   "execution_count": null,
   "id": "3d21cbff-fe9f-4265-9b51-fbc0f705e2e2",
   "metadata": {},
   "outputs": [],
   "source": [
    "# resuelve"
   ]
  },
  {
   "cell_type": "markdown",
   "id": "f3f060e5-eaba-415c-b935-1b9fa97d1b32",
   "metadata": {},
   "source": [
    "**Ejemplo:** Lee los datos del archivo `productos.txt` e imprime eliminando uno a la cantidad de productos"
   ]
  },
  {
   "cell_type": "code",
   "execution_count": null,
   "id": "441b640b-447f-49f6-8f1d-fd3337140be7",
   "metadata": {},
   "outputs": [],
   "source": [
    "# resuelve"
   ]
  },
  {
   "cell_type": "markdown",
   "id": "a99ccf25-d476-4760-99a3-fc61a46c859c",
   "metadata": {},
   "source": [
    "No logrante realizar el ejemplo de forma simple ¿cuál fué la causa?"
   ]
  },
  {
   "cell_type": "markdown",
   "id": "94f2fe2f-35e2-4727-961d-41d600d73a0c",
   "metadata": {
    "jp-MarkdownHeadingCollapsed": true
   },
   "source": []
  },
  {
   "cell_type": "markdown",
   "id": "277e4f85-03d2-4b30-ae62-9a7dde25c048",
   "metadata": {},
   "source": [
    "## Leyendo la web\n",
    "---"
   ]
  },
  {
   "cell_type": "markdown",
   "id": "83879147-670c-4d86-bca4-7d44c6219537",
   "metadata": {
    "jp-MarkdownHeadingCollapsed": true
   },
   "source": [
    "Según el WorldWideWebSize (https://www.worldwidewebsize.com) el índice de páginas web contiene al menos 5.59 billones de páginas, así que poder obtener datos de la web es alta mente probable y aunque Python cuenta con el módulo `urllib` en la librería estándar, hay un módulo externo llamado `requests` que realiza mucho mejor el trabajo.\n",
    "\n",
    "Así que primero hay que instalar el módulo `requests`:"
   ]
  },
  {
   "cell_type": "code",
   "execution_count": null,
   "id": "774dadad-29a7-4502-8523-cb43ebd90562",
   "metadata": {},
   "outputs": [],
   "source": [
    "!pip install requests"
   ]
  },
  {
   "cell_type": "markdown",
   "id": "5d3c4f2b-738c-41ae-950a-6b9166f8ebc8",
   "metadata": {},
   "source": [
    "**Ejemplo:** Vamos a descargar la página de la Wikipedia que contiene la lista de todos los nombres de los estádos de la república mexicana según el estándar ISO 3166-2.MX, en el siguiente link y guardaremos el resultado en el archivo `iso_3166-2.MX.html`\n",
    "\n",
    "- https://es.wikipedia.org/wiki/ISO_3166-2:MX"
   ]
  },
  {
   "cell_type": "code",
   "execution_count": null,
   "id": "ab7dd358-90de-47d4-8e8d-27515995027b",
   "metadata": {
    "scrolled": true
   },
   "outputs": [],
   "source": [
    "import requests\n",
    "\n",
    "# resuelve        "
   ]
  },
  {
   "cell_type": "markdown",
   "id": "1a51e3d3-ced4-455b-b812-0cec87268ebc",
   "metadata": {
    "jp-MarkdownHeadingCollapsed": true
   },
   "source": []
  },
  {
   "cell_type": "markdown",
   "id": "bbd06bd1-2e25-4f73-9353-4c3241412801",
   "metadata": {},
   "source": [
    "## Coincidencia de patrones con expresiones regulares (re)\n",
    "---"
   ]
  },
  {
   "cell_type": "markdown",
   "id": "bad83151-7034-43a6-bf5f-47393d5f88a1",
   "metadata": {
    "jp-MarkdownHeadingCollapsed": true
   },
   "source": [
    "Las expresiones regulares son una herramienta poderosa para buscar, separar y remplazar cadenas de texto basado en patrones.\n",
    "\n",
    "Para crear los patrones existe un lenguaje de símbolos que se puede resumir en la siguiente tabla:\n",
    "\n",
    "| Caracter | Significado |\n",
    "|---|---|\n",
    "| ^ | Inicio de la línea |\n",
    "| $ | Fin de la línea |\n",
    "| . | Cualquier carácter (excepto el salto de línea) |\n",
    "| * | Cero o más repeticiones del carácter anterior |\n",
    "| + | Una o más repeticiones del carácter anterior |\n",
    "| ? | Cero o una repetición del carácter anterior |\n",
    "| [] | Un conjunto de caracteres |\n",
    "| \\| | Separador de caracteres en un conjunto |\n",
    "| () | Grupo de captura |\n",
    "| \\| | Separador de grupos de captura |\n",
    "| {n} | El carácter anterior exactamente n veces |\n",
    "| {m,n} | El carácter anterior entre m y n veces |\n",
    "| \\d | Un dígito numérico |\n",
    "| \\w | Un carácter alfanumérico |\n",
    "| \\s | Un espacio en blanco |\n",
    "| \\n | Un salto de línea |\n",
    "| \\r | Un retorno del carro |\n",
    "| \\t | Una tabulación |\n",
    "| \\xhh | Un carácter representado por la secuencia de hexadecimales hh |\n",
    "| \\uhhhh | Un carácter representado por la secuencia de hexadecimales hhhh |\n",
    "\n",
    "**TIP:** Es recomendable hacer uso de sitio como https://regex101.com para validar la expresión regular usada obtiene el resultado esperado"
   ]
  },
  {
   "cell_type": "markdown",
   "id": "19030cee-cbe9-427f-b4d7-ce909f8c8c5e",
   "metadata": {},
   "source": [
    "**Ejemplo:** Obtener la lista de los códigos ISO de los estados de la república mexicana a partir del archivo `iso_3166-2.MX.html`\n",
    "\n",
    "Puedes usar la función `re.findall(patron, cadena)`"
   ]
  },
  {
   "cell_type": "code",
   "execution_count": null,
   "id": "2878b9ed-9e16-4f97-9fba-e12dd8699890",
   "metadata": {},
   "outputs": [],
   "source": [
    "import re\n",
    "\n",
    "# resuelve"
   ]
  },
  {
   "cell_type": "markdown",
   "id": "9305d96c-06ba-473b-ad26-2721b2235f28",
   "metadata": {
    "jp-MarkdownHeadingCollapsed": true
   },
   "source": []
  },
  {
   "cell_type": "markdown",
   "id": "7cf69ef4-9cfb-45d8-8ee6-e341b53f732c",
   "metadata": {},
   "source": [
    "## Coincidencia en nombre de archivos (pathlib)\n",
    "---"
   ]
  },
  {
   "cell_type": "markdown",
   "id": "431b9b01-8627-4c38-a42e-b89a9e7fed81",
   "metadata": {
    "jp-MarkdownHeadingCollapsed": true
   },
   "source": [
    "Si lo que buscas es obtener una lista de archivos en base a cierto patrón podrías usar la función `pathlib.Path().glob()` con la sintaxis:\n",
    "\n",
    "`pathlib.Path(-ruta-).glob(-patron-)`\n",
    "\n",
    "Aunque la función anterior es un **generador** por lo que hay extraer los elementos uno a uno.\n",
    "\n",
    "**Ejemplo:** Obtener la lista de todos los archivos con extensión `html`."
   ]
  },
  {
   "cell_type": "code",
   "execution_count": null,
   "id": "e4ba0c51-7c1c-4d3c-be7a-715f5a02319e",
   "metadata": {},
   "outputs": [],
   "source": [
    "import pathlib\n",
    "\n",
    "# resuelve"
   ]
  }
 ],
 "metadata": {
  "kernelspec": {
   "display_name": "Python 3 (ipykernel)",
   "language": "python",
   "name": "python3"
  },
  "language_info": {
   "codemirror_mode": {
    "name": "ipython",
    "version": 3
   },
   "file_extension": ".py",
   "mimetype": "text/x-python",
   "name": "python",
   "nbconvert_exporter": "python",
   "pygments_lexer": "ipython3",
   "version": "3.11.4"
  }
 },
 "nbformat": 4,
 "nbformat_minor": 5
}
